{
 "cells": [
  {
   "cell_type": "code",
   "execution_count": 1,
   "metadata": {
    "scrolled": true
   },
   "outputs": [
    {
     "data": {
      "text/html": [
       "<div>\n",
       "<style scoped>\n",
       "    .dataframe tbody tr th:only-of-type {\n",
       "        vertical-align: middle;\n",
       "    }\n",
       "\n",
       "    .dataframe tbody tr th {\n",
       "        vertical-align: top;\n",
       "    }\n",
       "\n",
       "    .dataframe thead th {\n",
       "        text-align: right;\n",
       "    }\n",
       "</style>\n",
       "<table border=\"1\" class=\"dataframe\">\n",
       "  <thead>\n",
       "    <tr style=\"text-align: right;\">\n",
       "      <th></th>\n",
       "      <th>Country Name</th>\n",
       "      <th>政府教育支出</th>\n",
       "      <th>科技期刊文章</th>\n",
       "      <th>高校入学率</th>\n",
       "      <th>研发技术人员数量</th>\n",
       "      <th>研发支出</th>\n",
       "      <th>留学生极大型</th>\n",
       "      <th>高校排名数据</th>\n",
       "      <th>留学生</th>\n",
       "      <th>评估值S</th>\n",
       "    </tr>\n",
       "  </thead>\n",
       "  <tbody>\n",
       "    <tr>\n",
       "      <td>0</td>\n",
       "      <td>United States</td>\n",
       "      <td>0.000000</td>\n",
       "      <td>0.297278</td>\n",
       "      <td>0.618116</td>\n",
       "      <td>0.000000</td>\n",
       "      <td>0.572943</td>\n",
       "      <td>0.000000</td>\n",
       "      <td>1.000000</td>\n",
       "      <td>0.109186</td>\n",
       "      <td>0.512414</td>\n",
       "    </tr>\n",
       "    <tr>\n",
       "      <td>1</td>\n",
       "      <td>OECD member</td>\n",
       "      <td>0.464136</td>\n",
       "      <td>1.000000</td>\n",
       "      <td>0.520716</td>\n",
       "      <td>0.000000</td>\n",
       "      <td>0.520618</td>\n",
       "      <td>0.786746</td>\n",
       "      <td>0.000000</td>\n",
       "      <td>0.191914</td>\n",
       "      <td>0.510060</td>\n",
       "    </tr>\n",
       "    <tr>\n",
       "      <td>2</td>\n",
       "      <td>China</td>\n",
       "      <td>0.484215</td>\n",
       "      <td>0.371425</td>\n",
       "      <td>0.376368</td>\n",
       "      <td>0.000000</td>\n",
       "      <td>0.441304</td>\n",
       "      <td>0.711980</td>\n",
       "      <td>0.413165</td>\n",
       "      <td>0.117608</td>\n",
       "      <td>0.378780</td>\n",
       "    </tr>\n",
       "    <tr>\n",
       "      <td>3</td>\n",
       "      <td>India</td>\n",
       "      <td>0.538596</td>\n",
       "      <td>0.095473</td>\n",
       "      <td>0.200017</td>\n",
       "      <td>0.023076</td>\n",
       "      <td>0.131235</td>\n",
       "      <td>0.526493</td>\n",
       "      <td>0.566049</td>\n",
       "      <td>0.00276527</td>\n",
       "      <td>0.321939</td>\n",
       "    </tr>\n",
       "    <tr>\n",
       "      <td>4</td>\n",
       "      <td>Germany</td>\n",
       "      <td>0.423305</td>\n",
       "      <td>0.073401</td>\n",
       "      <td>0.492416</td>\n",
       "      <td>0.633809</td>\n",
       "      <td>0.624730</td>\n",
       "      <td>0.977201</td>\n",
       "      <td>0.156978</td>\n",
       "      <td>0.208778</td>\n",
       "      <td>0.278372</td>\n",
       "    </tr>\n",
       "    <tr>\n",
       "      <td>5</td>\n",
       "      <td>Austria</td>\n",
       "      <td>0.419761</td>\n",
       "      <td>0.008692</td>\n",
       "      <td>0.606840</td>\n",
       "      <td>0.836413</td>\n",
       "      <td>0.640402</td>\n",
       "      <td>0.816660</td>\n",
       "      <td>0.024656</td>\n",
       "      <td>0.366482</td>\n",
       "      <td>0.273835</td>\n",
       "    </tr>\n",
       "    <tr>\n",
       "      <td>6</td>\n",
       "      <td>Switzerland</td>\n",
       "      <td>0.597142</td>\n",
       "      <td>0.015031</td>\n",
       "      <td>0.429658</td>\n",
       "      <td>0.827455</td>\n",
       "      <td>0.681003</td>\n",
       "      <td>0.786746</td>\n",
       "      <td>0.000000</td>\n",
       "      <td>0.370692</td>\n",
       "      <td>0.273729</td>\n",
       "    </tr>\n",
       "    <tr>\n",
       "      <td>7</td>\n",
       "      <td>Korea</td>\n",
       "      <td>0.000000</td>\n",
       "      <td>0.046669</td>\n",
       "      <td>0.671073</td>\n",
       "      <td>0.414222</td>\n",
       "      <td>0.971190</td>\n",
       "      <td>0.866935</td>\n",
       "      <td>0.066094</td>\n",
       "      <td>0.0575678</td>\n",
       "      <td>0.270461</td>\n",
       "    </tr>\n",
       "    <tr>\n",
       "      <td>8</td>\n",
       "      <td>Sweden</td>\n",
       "      <td>0.605612</td>\n",
       "      <td>0.014358</td>\n",
       "      <td>0.507246</td>\n",
       "      <td>0.640402</td>\n",
       "      <td>0.674242</td>\n",
       "      <td>0.839969</td>\n",
       "      <td>0.043868</td>\n",
       "      <td>0.150225</td>\n",
       "      <td>0.262844</td>\n",
       "    </tr>\n",
       "    <tr>\n",
       "      <td>9</td>\n",
       "      <td>Denmark</td>\n",
       "      <td>0.584882</td>\n",
       "      <td>0.009829</td>\n",
       "      <td>0.568304</td>\n",
       "      <td>0.670746</td>\n",
       "      <td>0.618659</td>\n",
       "      <td>0.810874</td>\n",
       "      <td>0.019887</td>\n",
       "      <td>0.224301</td>\n",
       "      <td>0.259356</td>\n",
       "    </tr>\n",
       "    <tr>\n",
       "      <td>10</td>\n",
       "      <td>Iceland</td>\n",
       "      <td>0.678135</td>\n",
       "      <td>0.000479</td>\n",
       "      <td>0.511741</td>\n",
       "      <td>0.749035</td>\n",
       "      <td>0.409859</td>\n",
       "      <td>0.789530</td>\n",
       "      <td>0.002295</td>\n",
       "      <td>0.167801</td>\n",
       "      <td>0.252836</td>\n",
       "    </tr>\n",
       "    <tr>\n",
       "      <td>11</td>\n",
       "      <td>Israel</td>\n",
       "      <td>0.602541</td>\n",
       "      <td>0.008602</td>\n",
       "      <td>0.430353</td>\n",
       "      <td>0.000000</td>\n",
       "      <td>1.000000</td>\n",
       "      <td>0.811420</td>\n",
       "      <td>0.020337</td>\n",
       "      <td>0.0610663</td>\n",
       "      <td>0.252541</td>\n",
       "    </tr>\n",
       "    <tr>\n",
       "      <td>12</td>\n",
       "      <td>Luxembourg</td>\n",
       "      <td>0.327142</td>\n",
       "      <td>0.000611</td>\n",
       "      <td>0.130138</td>\n",
       "      <td>1.000000</td>\n",
       "      <td>0.249480</td>\n",
       "      <td>0.787838</td>\n",
       "      <td>0.000900</td>\n",
       "      <td>1</td>\n",
       "      <td>0.247098</td>\n",
       "    </tr>\n",
       "    <tr>\n",
       "      <td>13</td>\n",
       "      <td>United Kingdom</td>\n",
       "      <td>0.543967</td>\n",
       "      <td>0.068680</td>\n",
       "      <td>0.429696</td>\n",
       "      <td>0.412323</td>\n",
       "      <td>0.348112</td>\n",
       "      <td>0.976728</td>\n",
       "      <td>0.194952</td>\n",
       "      <td>0.383869</td>\n",
       "      <td>0.245944</td>\n",
       "    </tr>\n",
       "    <tr>\n",
       "      <td>14</td>\n",
       "      <td>Netherlands</td>\n",
       "      <td>0.467385</td>\n",
       "      <td>0.021415</td>\n",
       "      <td>0.609707</td>\n",
       "      <td>0.643611</td>\n",
       "      <td>0.436874</td>\n",
       "      <td>0.844936</td>\n",
       "      <td>0.047962</td>\n",
       "      <td>0.246549</td>\n",
       "      <td>0.243918</td>\n",
       "    </tr>\n",
       "    <tr>\n",
       "      <td>15</td>\n",
       "      <td>France</td>\n",
       "      <td>0.371016</td>\n",
       "      <td>0.046653</td>\n",
       "      <td>0.473390</td>\n",
       "      <td>0.570288</td>\n",
       "      <td>0.444199</td>\n",
       "      <td>0.907984</td>\n",
       "      <td>0.099928</td>\n",
       "      <td>0.183681</td>\n",
       "      <td>0.235348</td>\n",
       "    </tr>\n",
       "    <tr>\n",
       "      <td>16</td>\n",
       "      <td>Australian</td>\n",
       "      <td>0.521853</td>\n",
       "      <td>0.037694</td>\n",
       "      <td>0.754683</td>\n",
       "      <td>0.358955</td>\n",
       "      <td>0.378317</td>\n",
       "      <td>0.882601</td>\n",
       "      <td>0.079007</td>\n",
       "      <td>0.555211</td>\n",
       "      <td>0.233813</td>\n",
       "    </tr>\n",
       "    <tr>\n",
       "      <td>17</td>\n",
       "      <td>Czech Republic</td>\n",
       "      <td>0.379364</td>\n",
       "      <td>0.010952</td>\n",
       "      <td>0.446397</td>\n",
       "      <td>0.690570</td>\n",
       "      <td>0.389335</td>\n",
       "      <td>0.808527</td>\n",
       "      <td>0.017952</td>\n",
       "      <td>0.285032</td>\n",
       "      <td>0.226647</td>\n",
       "    </tr>\n",
       "    <tr>\n",
       "      <td>18</td>\n",
       "      <td>Belgium</td>\n",
       "      <td>0.478801</td>\n",
       "      <td>0.011030</td>\n",
       "      <td>0.552328</td>\n",
       "      <td>0.435214</td>\n",
       "      <td>0.569617</td>\n",
       "      <td>0.813876</td>\n",
       "      <td>0.022361</td>\n",
       "      <td>0.219001</td>\n",
       "      <td>0.224904</td>\n",
       "    </tr>\n",
       "    <tr>\n",
       "      <td>19</td>\n",
       "      <td>Slovenia</td>\n",
       "      <td>0.460887</td>\n",
       "      <td>0.002254</td>\n",
       "      <td>0.539811</td>\n",
       "      <td>0.573023</td>\n",
       "      <td>0.392145</td>\n",
       "      <td>0.791168</td>\n",
       "      <td>0.003644</td>\n",
       "      <td>0.093621</td>\n",
       "      <td>0.219514</td>\n",
       "    </tr>\n",
       "    <tr>\n",
       "      <td>20</td>\n",
       "      <td>Japan</td>\n",
       "      <td>0.321194</td>\n",
       "      <td>0.069461</td>\n",
       "      <td>0.000000</td>\n",
       "      <td>0.165599</td>\n",
       "      <td>0.659127</td>\n",
       "      <td>0.969122</td>\n",
       "      <td>0.150319</td>\n",
       "      <td>0.0991306</td>\n",
       "      <td>0.218211</td>\n",
       "    </tr>\n",
       "    <tr>\n",
       "      <td>21</td>\n",
       "      <td>Greece</td>\n",
       "      <td>0.333512</td>\n",
       "      <td>0.007669</td>\n",
       "      <td>1.000000</td>\n",
       "      <td>0.184805</td>\n",
       "      <td>0.237709</td>\n",
       "      <td>0.810383</td>\n",
       "      <td>0.019482</td>\n",
       "      <td>0.0719179</td>\n",
       "      <td>0.216586</td>\n",
       "    </tr>\n",
       "    <tr>\n",
       "      <td>22</td>\n",
       "      <td>Canada</td>\n",
       "      <td>0.468406</td>\n",
       "      <td>0.042164</td>\n",
       "      <td>0.490809</td>\n",
       "      <td>0.400620</td>\n",
       "      <td>0.316237</td>\n",
       "      <td>0.916391</td>\n",
       "      <td>0.106857</td>\n",
       "      <td>0.289892</td>\n",
       "      <td>0.215511</td>\n",
       "    </tr>\n",
       "    <tr>\n",
       "      <td>23</td>\n",
       "      <td>Spain</td>\n",
       "      <td>0.391966</td>\n",
       "      <td>0.038345</td>\n",
       "      <td>0.637811</td>\n",
       "      <td>0.399530</td>\n",
       "      <td>0.249759</td>\n",
       "      <td>0.886313</td>\n",
       "      <td>0.082066</td>\n",
       "      <td>0.0723997</td>\n",
       "      <td>0.212300</td>\n",
       "    </tr>\n",
       "    <tr>\n",
       "      <td>24</td>\n",
       "      <td>New Zealand</td>\n",
       "      <td>0.638462</td>\n",
       "      <td>0.005547</td>\n",
       "      <td>0.580902</td>\n",
       "      <td>0.403043</td>\n",
       "      <td>0.275744</td>\n",
       "      <td>0.805251</td>\n",
       "      <td>0.015252</td>\n",
       "      <td>0.412276</td>\n",
       "      <td>0.211817</td>\n",
       "    </tr>\n",
       "    <tr>\n",
       "      <td>25</td>\n",
       "      <td>Costa Rica</td>\n",
       "      <td>1.000000</td>\n",
       "      <td>0.000357</td>\n",
       "      <td>0.403738</td>\n",
       "      <td>0.000000</td>\n",
       "      <td>0.085479</td>\n",
       "      <td>0.790458</td>\n",
       "      <td>0.003059</td>\n",
       "      <td>0.027087</td>\n",
       "      <td>0.207852</td>\n",
       "    </tr>\n",
       "    <tr>\n",
       "      <td>26</td>\n",
       "      <td>Chile</td>\n",
       "      <td>0.816952</td>\n",
       "      <td>0.005007</td>\n",
       "      <td>0.636297</td>\n",
       "      <td>0.095851</td>\n",
       "      <td>0.071713</td>\n",
       "      <td>0.812894</td>\n",
       "      <td>0.021551</td>\n",
       "      <td>0.00948989</td>\n",
       "      <td>0.207518</td>\n",
       "    </tr>\n",
       "    <tr>\n",
       "      <td>27</td>\n",
       "      <td>Brazil</td>\n",
       "      <td>0.632981</td>\n",
       "      <td>0.042290</td>\n",
       "      <td>0.304230</td>\n",
       "      <td>0.306347</td>\n",
       "      <td>0.255061</td>\n",
       "      <td>0.916391</td>\n",
       "      <td>0.106857</td>\n",
       "      <td>0.00506966</td>\n",
       "      <td>0.205402</td>\n",
       "    </tr>\n",
       "    <tr>\n",
       "      <td>28</td>\n",
       "      <td>Finland</td>\n",
       "      <td>0.454978</td>\n",
       "      <td>0.007452</td>\n",
       "      <td>0.631855</td>\n",
       "      <td>0.000000</td>\n",
       "      <td>0.560051</td>\n",
       "      <td>0.811638</td>\n",
       "      <td>0.020517</td>\n",
       "      <td>0.168681</td>\n",
       "      <td>0.203770</td>\n",
       "    </tr>\n",
       "    <tr>\n",
       "      <td>29</td>\n",
       "      <td>Norway</td>\n",
       "      <td>0.613863</td>\n",
       "      <td>0.008299</td>\n",
       "      <td>0.581142</td>\n",
       "      <td>0.000000</td>\n",
       "      <td>0.417917</td>\n",
       "      <td>0.815514</td>\n",
       "      <td>0.023711</td>\n",
       "      <td>0.094857</td>\n",
       "      <td>0.198691</td>\n",
       "    </tr>\n",
       "    <tr>\n",
       "      <td>30</td>\n",
       "      <td>Russia</td>\n",
       "      <td>0.516167</td>\n",
       "      <td>0.057359</td>\n",
       "      <td>0.592111</td>\n",
       "      <td>0.138293</td>\n",
       "      <td>0.199864</td>\n",
       "      <td>0.881564</td>\n",
       "      <td>0.078152</td>\n",
       "      <td>0.0817011</td>\n",
       "      <td>0.197287</td>\n",
       "    </tr>\n",
       "    <tr>\n",
       "      <td>31</td>\n",
       "      <td>Turkey</td>\n",
       "      <td>0.307322</td>\n",
       "      <td>0.023579</td>\n",
       "      <td>0.792548</td>\n",
       "      <td>0.111730</td>\n",
       "      <td>0.194043</td>\n",
       "      <td>0.868027</td>\n",
       "      <td>0.066994</td>\n",
       "      <td>0.0346706</td>\n",
       "      <td>0.195824</td>\n",
       "    </tr>\n",
       "    <tr>\n",
       "      <td>32</td>\n",
       "      <td>Ireland</td>\n",
       "      <td>0.516315</td>\n",
       "      <td>0.005044</td>\n",
       "      <td>0.541000</td>\n",
       "      <td>0.367846</td>\n",
       "      <td>0.231480</td>\n",
       "      <td>0.805306</td>\n",
       "      <td>0.015297</td>\n",
       "      <td>0.201906</td>\n",
       "      <td>0.193376</td>\n",
       "    </tr>\n",
       "    <tr>\n",
       "      <td>33</td>\n",
       "      <td>Saudi Arabia</td>\n",
       "      <td>0.738209</td>\n",
       "      <td>0.007662</td>\n",
       "      <td>0.496324</td>\n",
       "      <td>0.000000</td>\n",
       "      <td>0.164586</td>\n",
       "      <td>0.811747</td>\n",
       "      <td>0.020606</td>\n",
       "      <td>0.0956321</td>\n",
       "      <td>0.188745</td>\n",
       "    </tr>\n",
       "    <tr>\n",
       "      <td>34</td>\n",
       "      <td>Italy</td>\n",
       "      <td>0.318705</td>\n",
       "      <td>0.050089</td>\n",
       "      <td>0.450057</td>\n",
       "      <td>0.259003</td>\n",
       "      <td>0.282486</td>\n",
       "      <td>0.894392</td>\n",
       "      <td>0.088725</td>\n",
       "      <td>0.117796</td>\n",
       "      <td>0.184640</td>\n",
       "    </tr>\n",
       "    <tr>\n",
       "      <td>35</td>\n",
       "      <td>Argentina</td>\n",
       "      <td>0.508456</td>\n",
       "      <td>0.006195</td>\n",
       "      <td>0.629732</td>\n",
       "      <td>0.106538</td>\n",
       "      <td>0.109337</td>\n",
       "      <td>0.816005</td>\n",
       "      <td>0.024116</td>\n",
       "      <td>0.0592647</td>\n",
       "      <td>0.179645</td>\n",
       "    </tr>\n",
       "    <tr>\n",
       "      <td>36</td>\n",
       "      <td>Estonia</td>\n",
       "      <td>0.488767</td>\n",
       "      <td>0.000995</td>\n",
       "      <td>0.492576</td>\n",
       "      <td>0.206836</td>\n",
       "      <td>0.287747</td>\n",
       "      <td>0.791768</td>\n",
       "      <td>0.004139</td>\n",
       "      <td>0.200964</td>\n",
       "      <td>0.175519</td>\n",
       "    </tr>\n",
       "    <tr>\n",
       "      <td>37</td>\n",
       "      <td>Latvia</td>\n",
       "      <td>0.458764</td>\n",
       "      <td>0.000997</td>\n",
       "      <td>0.651195</td>\n",
       "      <td>0.123559</td>\n",
       "      <td>0.127339</td>\n",
       "      <td>0.786746</td>\n",
       "      <td>0.000000</td>\n",
       "      <td>0.194176</td>\n",
       "      <td>0.175483</td>\n",
       "    </tr>\n",
       "    <tr>\n",
       "      <td>38</td>\n",
       "      <td>Portugal</td>\n",
       "      <td>0.423896</td>\n",
       "      <td>0.010051</td>\n",
       "      <td>0.459655</td>\n",
       "      <td>0.246386</td>\n",
       "      <td>0.275708</td>\n",
       "      <td>0.822119</td>\n",
       "      <td>0.029155</td>\n",
       "      <td>0.165308</td>\n",
       "      <td>0.173957</td>\n",
       "    </tr>\n",
       "    <tr>\n",
       "      <td>39</td>\n",
       "      <td>South Africa</td>\n",
       "      <td>0.745614</td>\n",
       "      <td>0.009147</td>\n",
       "      <td>0.166620</td>\n",
       "      <td>0.040906</td>\n",
       "      <td>0.168017</td>\n",
       "      <td>0.810273</td>\n",
       "      <td>0.019392</td>\n",
       "      <td>0.0850948</td>\n",
       "      <td>0.172364</td>\n",
       "    </tr>\n",
       "    <tr>\n",
       "      <td>40</td>\n",
       "      <td>Poland</td>\n",
       "      <td>0.423937</td>\n",
       "      <td>0.025075</td>\n",
       "      <td>0.480358</td>\n",
       "      <td>0.131166</td>\n",
       "      <td>0.244768</td>\n",
       "      <td>0.838277</td>\n",
       "      <td>0.042473</td>\n",
       "      <td>0.0762753</td>\n",
       "      <td>0.170167</td>\n",
       "    </tr>\n",
       "    <tr>\n",
       "      <td>41</td>\n",
       "      <td>Mexico</td>\n",
       "      <td>0.673782</td>\n",
       "      <td>0.011493</td>\n",
       "      <td>0.290670</td>\n",
       "      <td>0.044314</td>\n",
       "      <td>0.063041</td>\n",
       "      <td>0.831508</td>\n",
       "      <td>0.036894</td>\n",
       "      <td>0.00330994</td>\n",
       "      <td>0.169287</td>\n",
       "    </tr>\n",
       "    <tr>\n",
       "      <td>42</td>\n",
       "      <td>Republic of Lithuania</td>\n",
       "      <td>0.453271</td>\n",
       "      <td>0.001594</td>\n",
       "      <td>0.516131</td>\n",
       "      <td>0.146075</td>\n",
       "      <td>0.190794</td>\n",
       "      <td>0.791987</td>\n",
       "      <td>0.004319</td>\n",
       "      <td>0.111574</td>\n",
       "      <td>0.165618</td>\n",
       "    </tr>\n",
       "    <tr>\n",
       "      <td>43</td>\n",
       "      <td>Columbia</td>\n",
       "      <td>0.612674</td>\n",
       "      <td>0.005059</td>\n",
       "      <td>0.387306</td>\n",
       "      <td>0.000000</td>\n",
       "      <td>0.047850</td>\n",
       "      <td>0.821682</td>\n",
       "      <td>0.028795</td>\n",
       "      <td>0.0041479</td>\n",
       "      <td>0.165603</td>\n",
       "    </tr>\n",
       "    <tr>\n",
       "      <td>44</td>\n",
       "      <td>Hungry</td>\n",
       "      <td>0.385996</td>\n",
       "      <td>0.004711</td>\n",
       "      <td>0.352158</td>\n",
       "      <td>0.243306</td>\n",
       "      <td>0.313933</td>\n",
       "      <td>0.799029</td>\n",
       "      <td>0.010123</td>\n",
       "      <td>0.239049</td>\n",
       "      <td>0.162208</td>\n",
       "    </tr>\n",
       "  </tbody>\n",
       "</table>\n",
       "</div>"
      ],
      "text/plain": [
       "             Country Name    政府教育支出    科技期刊文章     高校入学率  研发技术人员数量      研发支出  \\\n",
       "0           United States  0.000000  0.297278  0.618116  0.000000  0.572943   \n",
       "1             OECD member  0.464136  1.000000  0.520716  0.000000  0.520618   \n",
       "2                   China  0.484215  0.371425  0.376368  0.000000  0.441304   \n",
       "3                   India  0.538596  0.095473  0.200017  0.023076  0.131235   \n",
       "4                 Germany  0.423305  0.073401  0.492416  0.633809  0.624730   \n",
       "5                 Austria  0.419761  0.008692  0.606840  0.836413  0.640402   \n",
       "6             Switzerland  0.597142  0.015031  0.429658  0.827455  0.681003   \n",
       "7                   Korea  0.000000  0.046669  0.671073  0.414222  0.971190   \n",
       "8                  Sweden  0.605612  0.014358  0.507246  0.640402  0.674242   \n",
       "9                 Denmark  0.584882  0.009829  0.568304  0.670746  0.618659   \n",
       "10                Iceland  0.678135  0.000479  0.511741  0.749035  0.409859   \n",
       "11                 Israel  0.602541  0.008602  0.430353  0.000000  1.000000   \n",
       "12             Luxembourg  0.327142  0.000611  0.130138  1.000000  0.249480   \n",
       "13         United Kingdom  0.543967  0.068680  0.429696  0.412323  0.348112   \n",
       "14            Netherlands  0.467385  0.021415  0.609707  0.643611  0.436874   \n",
       "15                 France  0.371016  0.046653  0.473390  0.570288  0.444199   \n",
       "16             Australian  0.521853  0.037694  0.754683  0.358955  0.378317   \n",
       "17         Czech Republic  0.379364  0.010952  0.446397  0.690570  0.389335   \n",
       "18                Belgium  0.478801  0.011030  0.552328  0.435214  0.569617   \n",
       "19               Slovenia  0.460887  0.002254  0.539811  0.573023  0.392145   \n",
       "20                  Japan  0.321194  0.069461  0.000000  0.165599  0.659127   \n",
       "21                 Greece  0.333512  0.007669  1.000000  0.184805  0.237709   \n",
       "22                 Canada  0.468406  0.042164  0.490809  0.400620  0.316237   \n",
       "23                  Spain  0.391966  0.038345  0.637811  0.399530  0.249759   \n",
       "24            New Zealand  0.638462  0.005547  0.580902  0.403043  0.275744   \n",
       "25             Costa Rica  1.000000  0.000357  0.403738  0.000000  0.085479   \n",
       "26                  Chile  0.816952  0.005007  0.636297  0.095851  0.071713   \n",
       "27                 Brazil  0.632981  0.042290  0.304230  0.306347  0.255061   \n",
       "28                Finland  0.454978  0.007452  0.631855  0.000000  0.560051   \n",
       "29                 Norway  0.613863  0.008299  0.581142  0.000000  0.417917   \n",
       "30                 Russia  0.516167  0.057359  0.592111  0.138293  0.199864   \n",
       "31                 Turkey  0.307322  0.023579  0.792548  0.111730  0.194043   \n",
       "32                Ireland  0.516315  0.005044  0.541000  0.367846  0.231480   \n",
       "33           Saudi Arabia  0.738209  0.007662  0.496324  0.000000  0.164586   \n",
       "34                  Italy  0.318705  0.050089  0.450057  0.259003  0.282486   \n",
       "35              Argentina  0.508456  0.006195  0.629732  0.106538  0.109337   \n",
       "36                Estonia  0.488767  0.000995  0.492576  0.206836  0.287747   \n",
       "37                 Latvia  0.458764  0.000997  0.651195  0.123559  0.127339   \n",
       "38               Portugal  0.423896  0.010051  0.459655  0.246386  0.275708   \n",
       "39           South Africa  0.745614  0.009147  0.166620  0.040906  0.168017   \n",
       "40                 Poland  0.423937  0.025075  0.480358  0.131166  0.244768   \n",
       "41                 Mexico  0.673782  0.011493  0.290670  0.044314  0.063041   \n",
       "42  Republic of Lithuania  0.453271  0.001594  0.516131  0.146075  0.190794   \n",
       "43               Columbia  0.612674  0.005059  0.387306  0.000000  0.047850   \n",
       "44                 Hungry  0.385996  0.004711  0.352158  0.243306  0.313933   \n",
       "\n",
       "      留学生极大型    高校排名数据         留学生      评估值S  \n",
       "0   0.000000  1.000000    0.109186  0.512414  \n",
       "1   0.786746  0.000000    0.191914  0.510060  \n",
       "2   0.711980  0.413165    0.117608  0.378780  \n",
       "3   0.526493  0.566049  0.00276527  0.321939  \n",
       "4   0.977201  0.156978    0.208778  0.278372  \n",
       "5   0.816660  0.024656    0.366482  0.273835  \n",
       "6   0.786746  0.000000    0.370692  0.273729  \n",
       "7   0.866935  0.066094   0.0575678  0.270461  \n",
       "8   0.839969  0.043868    0.150225  0.262844  \n",
       "9   0.810874  0.019887    0.224301  0.259356  \n",
       "10  0.789530  0.002295    0.167801  0.252836  \n",
       "11  0.811420  0.020337   0.0610663  0.252541  \n",
       "12  0.787838  0.000900           1  0.247098  \n",
       "13  0.976728  0.194952    0.383869  0.245944  \n",
       "14  0.844936  0.047962    0.246549  0.243918  \n",
       "15  0.907984  0.099928    0.183681  0.235348  \n",
       "16  0.882601  0.079007    0.555211  0.233813  \n",
       "17  0.808527  0.017952    0.285032  0.226647  \n",
       "18  0.813876  0.022361    0.219001  0.224904  \n",
       "19  0.791168  0.003644    0.093621  0.219514  \n",
       "20  0.969122  0.150319   0.0991306  0.218211  \n",
       "21  0.810383  0.019482   0.0719179  0.216586  \n",
       "22  0.916391  0.106857    0.289892  0.215511  \n",
       "23  0.886313  0.082066   0.0723997  0.212300  \n",
       "24  0.805251  0.015252    0.412276  0.211817  \n",
       "25  0.790458  0.003059    0.027087  0.207852  \n",
       "26  0.812894  0.021551  0.00948989  0.207518  \n",
       "27  0.916391  0.106857  0.00506966  0.205402  \n",
       "28  0.811638  0.020517    0.168681  0.203770  \n",
       "29  0.815514  0.023711    0.094857  0.198691  \n",
       "30  0.881564  0.078152   0.0817011  0.197287  \n",
       "31  0.868027  0.066994   0.0346706  0.195824  \n",
       "32  0.805306  0.015297    0.201906  0.193376  \n",
       "33  0.811747  0.020606   0.0956321  0.188745  \n",
       "34  0.894392  0.088725    0.117796  0.184640  \n",
       "35  0.816005  0.024116   0.0592647  0.179645  \n",
       "36  0.791768  0.004139    0.200964  0.175519  \n",
       "37  0.786746  0.000000    0.194176  0.175483  \n",
       "38  0.822119  0.029155    0.165308  0.173957  \n",
       "39  0.810273  0.019392   0.0850948  0.172364  \n",
       "40  0.838277  0.042473   0.0762753  0.170167  \n",
       "41  0.831508  0.036894  0.00330994  0.169287  \n",
       "42  0.791987  0.004319    0.111574  0.165618  \n",
       "43  0.821682  0.028795   0.0041479  0.165603  \n",
       "44  0.799029  0.010123    0.239049  0.162208  "
      ]
     },
     "execution_count": 1,
     "metadata": {},
     "output_type": "execute_result"
    }
   ],
   "source": [
    "# 绘制动图使用plotly\n",
    "import plotly.express as px\n",
    "import plotly.figure_factory as ff\n",
    "import pandas as pd \n",
    "from pandas import DataFrame\n",
    "import os\n",
    "path_read=r'C:\\Users\\螺号\\Desktop\\美美美\\F\\data2.xlsx'\n",
    "read=pd.read_excel(path_read, sheet_name='Sheet1')\n",
    "read.head(45)"
   ]
  },
  {
   "cell_type": "code",
   "execution_count": 5,
   "metadata": {},
   "outputs": [
    {
     "data": {
      "application/vnd.plotly.v1+json": {
       "config": {
        "plotlyServerURL": "https://plot.ly"
       },
       "data": [
        {
         "alignmentgroup": "True",
         "hovertemplate": "color=United States<br>x=%{x}<br>y=%{y}<extra></extra>",
         "legendgroup": "United States",
         "marker": {
          "color": "#636efa"
         },
         "name": "United States",
         "offsetgroup": "United States",
         "orientation": "h",
         "showlegend": true,
         "textposition": "auto",
         "type": "bar",
         "x": [
          0.512413845624294
         ],
         "xaxis": "x",
         "y": [
          "United States"
         ],
         "yaxis": "y"
        },
        {
         "alignmentgroup": "True",
         "hovertemplate": "color=OECD member<br>x=%{x}<br>y=%{y}<extra></extra>",
         "legendgroup": "OECD member",
         "marker": {
          "color": "#EF553B"
         },
         "name": "OECD member",
         "offsetgroup": "OECD member",
         "orientation": "h",
         "showlegend": true,
         "textposition": "auto",
         "type": "bar",
         "x": [
          0.510059773391711
         ],
         "xaxis": "x",
         "y": [
          "OECD member"
         ],
         "yaxis": "y"
        },
        {
         "alignmentgroup": "True",
         "hovertemplate": "color=China<br>x=%{x}<br>y=%{y}<extra></extra>",
         "legendgroup": "China",
         "marker": {
          "color": "#00cc96"
         },
         "name": "China",
         "offsetgroup": "China",
         "orientation": "h",
         "showlegend": true,
         "textposition": "auto",
         "type": "bar",
         "x": [
          0.378780191054256
         ],
         "xaxis": "x",
         "y": [
          "China"
         ],
         "yaxis": "y"
        },
        {
         "alignmentgroup": "True",
         "hovertemplate": "color=India<br>x=%{x}<br>y=%{y}<extra></extra>",
         "legendgroup": "India",
         "marker": {
          "color": "#ab63fa"
         },
         "name": "India",
         "offsetgroup": "India",
         "orientation": "h",
         "showlegend": true,
         "textposition": "auto",
         "type": "bar",
         "x": [
          0.321938601373092
         ],
         "xaxis": "x",
         "y": [
          "India"
         ],
         "yaxis": "y"
        },
        {
         "alignmentgroup": "True",
         "hovertemplate": "color=Germany<br>x=%{x}<br>y=%{y}<extra></extra>",
         "legendgroup": "Germany",
         "marker": {
          "color": "#FFA15A"
         },
         "name": "Germany",
         "offsetgroup": "Germany",
         "orientation": "h",
         "showlegend": true,
         "textposition": "auto",
         "type": "bar",
         "x": [
          0.278372284450331
         ],
         "xaxis": "x",
         "y": [
          "Germany"
         ],
         "yaxis": "y"
        },
        {
         "alignmentgroup": "True",
         "hovertemplate": "color=Austria<br>x=%{x}<br>y=%{y}<extra></extra>",
         "legendgroup": "Austria",
         "marker": {
          "color": "#19d3f3"
         },
         "name": "Austria",
         "offsetgroup": "Austria",
         "orientation": "h",
         "showlegend": true,
         "textposition": "auto",
         "type": "bar",
         "x": [
          0.273835242736249
         ],
         "xaxis": "x",
         "y": [
          "Austria"
         ],
         "yaxis": "y"
        },
        {
         "alignmentgroup": "True",
         "hovertemplate": "color=Switzerland<br>x=%{x}<br>y=%{y}<extra></extra>",
         "legendgroup": "Switzerland",
         "marker": {
          "color": "#FF6692"
         },
         "name": "Switzerland",
         "offsetgroup": "Switzerland",
         "orientation": "h",
         "showlegend": true,
         "textposition": "auto",
         "type": "bar",
         "x": [
          0.273728750452742
         ],
         "xaxis": "x",
         "y": [
          "Switzerland"
         ],
         "yaxis": "y"
        },
        {
         "alignmentgroup": "True",
         "hovertemplate": "color=Korea<br>x=%{x}<br>y=%{y}<extra></extra>",
         "legendgroup": "Korea",
         "marker": {
          "color": "#B6E880"
         },
         "name": "Korea",
         "offsetgroup": "Korea",
         "orientation": "h",
         "showlegend": true,
         "textposition": "auto",
         "type": "bar",
         "x": [
          0.270460724667535
         ],
         "xaxis": "x",
         "y": [
          "Korea"
         ],
         "yaxis": "y"
        },
        {
         "alignmentgroup": "True",
         "hovertemplate": "color=Sweden<br>x=%{x}<br>y=%{y}<extra></extra>",
         "legendgroup": "Sweden",
         "marker": {
          "color": "#FF97FF"
         },
         "name": "Sweden",
         "offsetgroup": "Sweden",
         "orientation": "h",
         "showlegend": true,
         "textposition": "auto",
         "type": "bar",
         "x": [
          0.262843918516143
         ],
         "xaxis": "x",
         "y": [
          "Sweden"
         ],
         "yaxis": "y"
        },
        {
         "alignmentgroup": "True",
         "hovertemplate": "color=Denmark<br>x=%{x}<br>y=%{y}<extra></extra>",
         "legendgroup": "Denmark",
         "marker": {
          "color": "#FECB52"
         },
         "name": "Denmark",
         "offsetgroup": "Denmark",
         "orientation": "h",
         "showlegend": true,
         "textposition": "auto",
         "type": "bar",
         "x": [
          0.259355718081959
         ],
         "xaxis": "x",
         "y": [
          "Denmark"
         ],
         "yaxis": "y"
        },
        {
         "alignmentgroup": "True",
         "hovertemplate": "color=Iceland<br>x=%{x}<br>y=%{y}<extra></extra>",
         "legendgroup": "Iceland",
         "marker": {
          "color": "#636efa"
         },
         "name": "Iceland",
         "offsetgroup": "Iceland",
         "orientation": "h",
         "showlegend": true,
         "textposition": "auto",
         "type": "bar",
         "x": [
          0.252835557738439
         ],
         "xaxis": "x",
         "y": [
          "Iceland"
         ],
         "yaxis": "y"
        },
        {
         "alignmentgroup": "True",
         "hovertemplate": "color=Israel<br>x=%{x}<br>y=%{y}<extra></extra>",
         "legendgroup": "Israel",
         "marker": {
          "color": "#EF553B"
         },
         "name": "Israel",
         "offsetgroup": "Israel",
         "orientation": "h",
         "showlegend": true,
         "textposition": "auto",
         "type": "bar",
         "x": [
          0.252541222735118
         ],
         "xaxis": "x",
         "y": [
          "Israel"
         ],
         "yaxis": "y"
        },
        {
         "alignmentgroup": "True",
         "hovertemplate": "color=Luxembourg<br>x=%{x}<br>y=%{y}<extra></extra>",
         "legendgroup": "Luxembourg",
         "marker": {
          "color": "#00cc96"
         },
         "name": "Luxembourg",
         "offsetgroup": "Luxembourg",
         "orientation": "h",
         "showlegend": true,
         "textposition": "auto",
         "type": "bar",
         "x": [
          0.247098327969498
         ],
         "xaxis": "x",
         "y": [
          "Luxembourg"
         ],
         "yaxis": "y"
        },
        {
         "alignmentgroup": "True",
         "hovertemplate": "color=United Kingdom<br>x=%{x}<br>y=%{y}<extra></extra>",
         "legendgroup": "United Kingdom",
         "marker": {
          "color": "#ab63fa"
         },
         "name": "United Kingdom",
         "offsetgroup": "United Kingdom",
         "orientation": "h",
         "showlegend": true,
         "textposition": "auto",
         "type": "bar",
         "x": [
          0.245943524058756
         ],
         "xaxis": "x",
         "y": [
          "United Kingdom"
         ],
         "yaxis": "y"
        },
        {
         "alignmentgroup": "True",
         "hovertemplate": "color=Netherlands<br>x=%{x}<br>y=%{y}<extra></extra>",
         "legendgroup": "Netherlands",
         "marker": {
          "color": "#FFA15A"
         },
         "name": "Netherlands",
         "offsetgroup": "Netherlands",
         "orientation": "h",
         "showlegend": true,
         "textposition": "auto",
         "type": "bar",
         "x": [
          0.243917785986799
         ],
         "xaxis": "x",
         "y": [
          "Netherlands"
         ],
         "yaxis": "y"
        },
        {
         "alignmentgroup": "True",
         "hovertemplate": "color=France<br>x=%{x}<br>y=%{y}<extra></extra>",
         "legendgroup": "France",
         "marker": {
          "color": "#19d3f3"
         },
         "name": "France",
         "offsetgroup": "France",
         "orientation": "h",
         "showlegend": true,
         "textposition": "auto",
         "type": "bar",
         "x": [
          0.235347899801337
         ],
         "xaxis": "x",
         "y": [
          "France"
         ],
         "yaxis": "y"
        },
        {
         "alignmentgroup": "True",
         "hovertemplate": "color=Australian<br>x=%{x}<br>y=%{y}<extra></extra>",
         "legendgroup": "Australian",
         "marker": {
          "color": "#FF6692"
         },
         "name": "Australian",
         "offsetgroup": "Australian",
         "orientation": "h",
         "showlegend": true,
         "textposition": "auto",
         "type": "bar",
         "x": [
          0.233812937932607
         ],
         "xaxis": "x",
         "y": [
          "Australian"
         ],
         "yaxis": "y"
        },
        {
         "alignmentgroup": "True",
         "hovertemplate": "color=Czech Republic<br>x=%{x}<br>y=%{y}<extra></extra>",
         "legendgroup": "Czech Republic",
         "marker": {
          "color": "#B6E880"
         },
         "name": "Czech Republic",
         "offsetgroup": "Czech Republic",
         "orientation": "h",
         "showlegend": true,
         "textposition": "auto",
         "type": "bar",
         "x": [
          0.226646519135945
         ],
         "xaxis": "x",
         "y": [
          "Czech Republic"
         ],
         "yaxis": "y"
        },
        {
         "alignmentgroup": "True",
         "hovertemplate": "color=Belgium<br>x=%{x}<br>y=%{y}<extra></extra>",
         "legendgroup": "Belgium",
         "marker": {
          "color": "#FF97FF"
         },
         "name": "Belgium",
         "offsetgroup": "Belgium",
         "orientation": "h",
         "showlegend": true,
         "textposition": "auto",
         "type": "bar",
         "x": [
          0.224904259663478
         ],
         "xaxis": "x",
         "y": [
          "Belgium"
         ],
         "yaxis": "y"
        },
        {
         "alignmentgroup": "True",
         "hovertemplate": "color=Slovenia<br>x=%{x}<br>y=%{y}<extra></extra>",
         "legendgroup": "Slovenia",
         "marker": {
          "color": "#FECB52"
         },
         "name": "Slovenia",
         "offsetgroup": "Slovenia",
         "orientation": "h",
         "showlegend": true,
         "textposition": "auto",
         "type": "bar",
         "x": [
          0.219513755767914
         ],
         "xaxis": "x",
         "y": [
          "Slovenia"
         ],
         "yaxis": "y"
        },
        {
         "alignmentgroup": "True",
         "hovertemplate": "color=Japan<br>x=%{x}<br>y=%{y}<extra></extra>",
         "legendgroup": "Japan",
         "marker": {
          "color": "#636efa"
         },
         "name": "Japan",
         "offsetgroup": "Japan",
         "orientation": "h",
         "showlegend": true,
         "textposition": "auto",
         "type": "bar",
         "x": [
          0.218211248047187
         ],
         "xaxis": "x",
         "y": [
          "Japan"
         ],
         "yaxis": "y"
        },
        {
         "alignmentgroup": "True",
         "hovertemplate": "color=Greece<br>x=%{x}<br>y=%{y}<extra></extra>",
         "legendgroup": "Greece",
         "marker": {
          "color": "#EF553B"
         },
         "name": "Greece",
         "offsetgroup": "Greece",
         "orientation": "h",
         "showlegend": true,
         "textposition": "auto",
         "type": "bar",
         "x": [
          0.216585801332933
         ],
         "xaxis": "x",
         "y": [
          "Greece"
         ],
         "yaxis": "y"
        },
        {
         "alignmentgroup": "True",
         "hovertemplate": "color=Canada<br>x=%{x}<br>y=%{y}<extra></extra>",
         "legendgroup": "Canada",
         "marker": {
          "color": "#00cc96"
         },
         "name": "Canada",
         "offsetgroup": "Canada",
         "orientation": "h",
         "showlegend": true,
         "textposition": "auto",
         "type": "bar",
         "x": [
          0.215511169009113
         ],
         "xaxis": "x",
         "y": [
          "Canada"
         ],
         "yaxis": "y"
        },
        {
         "alignmentgroup": "True",
         "hovertemplate": "color=Spain<br>x=%{x}<br>y=%{y}<extra></extra>",
         "legendgroup": "Spain",
         "marker": {
          "color": "#ab63fa"
         },
         "name": "Spain",
         "offsetgroup": "Spain",
         "orientation": "h",
         "showlegend": true,
         "textposition": "auto",
         "type": "bar",
         "x": [
          0.212299885046399
         ],
         "xaxis": "x",
         "y": [
          "Spain"
         ],
         "yaxis": "y"
        },
        {
         "alignmentgroup": "True",
         "hovertemplate": "color=New Zealand<br>x=%{x}<br>y=%{y}<extra></extra>",
         "legendgroup": "New Zealand",
         "marker": {
          "color": "#FFA15A"
         },
         "name": "New Zealand",
         "offsetgroup": "New Zealand",
         "orientation": "h",
         "showlegend": true,
         "textposition": "auto",
         "type": "bar",
         "x": [
          0.211817487496073
         ],
         "xaxis": "x",
         "y": [
          "New Zealand"
         ],
         "yaxis": "y"
        },
        {
         "alignmentgroup": "True",
         "hovertemplate": "color=Costa Rica<br>x=%{x}<br>y=%{y}<extra></extra>",
         "legendgroup": "Costa Rica",
         "marker": {
          "color": "#19d3f3"
         },
         "name": "Costa Rica",
         "offsetgroup": "Costa Rica",
         "orientation": "h",
         "showlegend": true,
         "textposition": "auto",
         "type": "bar",
         "x": [
          0.207851588687217
         ],
         "xaxis": "x",
         "y": [
          "Costa Rica"
         ],
         "yaxis": "y"
        },
        {
         "alignmentgroup": "True",
         "hovertemplate": "color=Chile<br>x=%{x}<br>y=%{y}<extra></extra>",
         "legendgroup": "Chile",
         "marker": {
          "color": "#FF6692"
         },
         "name": "Chile",
         "offsetgroup": "Chile",
         "orientation": "h",
         "showlegend": true,
         "textposition": "auto",
         "type": "bar",
         "x": [
          0.207518036724194
         ],
         "xaxis": "x",
         "y": [
          "Chile"
         ],
         "yaxis": "y"
        },
        {
         "alignmentgroup": "True",
         "hovertemplate": "color=Brazil<br>x=%{x}<br>y=%{y}<extra></extra>",
         "legendgroup": "Brazil",
         "marker": {
          "color": "#B6E880"
         },
         "name": "Brazil",
         "offsetgroup": "Brazil",
         "orientation": "h",
         "showlegend": true,
         "textposition": "auto",
         "type": "bar",
         "x": [
          0.205401837411104
         ],
         "xaxis": "x",
         "y": [
          "Brazil"
         ],
         "yaxis": "y"
        },
        {
         "alignmentgroup": "True",
         "hovertemplate": "color=Finland<br>x=%{x}<br>y=%{y}<extra></extra>",
         "legendgroup": "Finland",
         "marker": {
          "color": "#FF97FF"
         },
         "name": "Finland",
         "offsetgroup": "Finland",
         "orientation": "h",
         "showlegend": true,
         "textposition": "auto",
         "type": "bar",
         "x": [
          0.203770456681203
         ],
         "xaxis": "x",
         "y": [
          "Finland"
         ],
         "yaxis": "y"
        },
        {
         "alignmentgroup": "True",
         "hovertemplate": "color=Norway<br>x=%{x}<br>y=%{y}<extra></extra>",
         "legendgroup": "Norway",
         "marker": {
          "color": "#FECB52"
         },
         "name": "Norway",
         "offsetgroup": "Norway",
         "orientation": "h",
         "showlegend": true,
         "textposition": "auto",
         "type": "bar",
         "x": [
          0.198690874836926
         ],
         "xaxis": "x",
         "y": [
          "Norway"
         ],
         "yaxis": "y"
        },
        {
         "alignmentgroup": "True",
         "hovertemplate": "color=Russia<br>x=%{x}<br>y=%{y}<extra></extra>",
         "legendgroup": "Russia",
         "marker": {
          "color": "#636efa"
         },
         "name": "Russia",
         "offsetgroup": "Russia",
         "orientation": "h",
         "showlegend": true,
         "textposition": "auto",
         "type": "bar",
         "x": [
          0.19728702823922
         ],
         "xaxis": "x",
         "y": [
          "Russia"
         ],
         "yaxis": "y"
        },
        {
         "alignmentgroup": "True",
         "hovertemplate": "color=Turkey<br>x=%{x}<br>y=%{y}<extra></extra>",
         "legendgroup": "Turkey",
         "marker": {
          "color": "#EF553B"
         },
         "name": "Turkey",
         "offsetgroup": "Turkey",
         "orientation": "h",
         "showlegend": true,
         "textposition": "auto",
         "type": "bar",
         "x": [
          0.195823937450205
         ],
         "xaxis": "x",
         "y": [
          "Turkey"
         ],
         "yaxis": "y"
        },
        {
         "alignmentgroup": "True",
         "hovertemplate": "color=Ireland<br>x=%{x}<br>y=%{y}<extra></extra>",
         "legendgroup": "Ireland",
         "marker": {
          "color": "#00cc96"
         },
         "name": "Ireland",
         "offsetgroup": "Ireland",
         "orientation": "h",
         "showlegend": true,
         "textposition": "auto",
         "type": "bar",
         "x": [
          0.193376328431995
         ],
         "xaxis": "x",
         "y": [
          "Ireland"
         ],
         "yaxis": "y"
        },
        {
         "alignmentgroup": "True",
         "hovertemplate": "color=Saudi Arabia<br>x=%{x}<br>y=%{y}<extra></extra>",
         "legendgroup": "Saudi Arabia",
         "marker": {
          "color": "#ab63fa"
         },
         "name": "Saudi Arabia",
         "offsetgroup": "Saudi Arabia",
         "orientation": "h",
         "showlegend": true,
         "textposition": "auto",
         "type": "bar",
         "x": [
          0.188745464110452
         ],
         "xaxis": "x",
         "y": [
          "Saudi Arabia"
         ],
         "yaxis": "y"
        },
        {
         "alignmentgroup": "True",
         "hovertemplate": "color=Italy<br>x=%{x}<br>y=%{y}<extra></extra>",
         "legendgroup": "Italy",
         "marker": {
          "color": "#FFA15A"
         },
         "name": "Italy",
         "offsetgroup": "Italy",
         "orientation": "h",
         "showlegend": true,
         "textposition": "auto",
         "type": "bar",
         "x": [
          0.184640278842443
         ],
         "xaxis": "x",
         "y": [
          "Italy"
         ],
         "yaxis": "y"
        },
        {
         "alignmentgroup": "True",
         "hovertemplate": "color=Argentina<br>x=%{x}<br>y=%{y}<extra></extra>",
         "legendgroup": "Argentina",
         "marker": {
          "color": "#19d3f3"
         },
         "name": "Argentina",
         "offsetgroup": "Argentina",
         "orientation": "h",
         "showlegend": true,
         "textposition": "auto",
         "type": "bar",
         "x": [
          0.179645132168534
         ],
         "xaxis": "x",
         "y": [
          "Argentina"
         ],
         "yaxis": "y"
        },
        {
         "alignmentgroup": "True",
         "hovertemplate": "color=Estonia<br>x=%{x}<br>y=%{y}<extra></extra>",
         "legendgroup": "Estonia",
         "marker": {
          "color": "#FF6692"
         },
         "name": "Estonia",
         "offsetgroup": "Estonia",
         "orientation": "h",
         "showlegend": true,
         "textposition": "auto",
         "type": "bar",
         "x": [
          0.175518895244394
         ],
         "xaxis": "x",
         "y": [
          "Estonia"
         ],
         "yaxis": "y"
        },
        {
         "alignmentgroup": "True",
         "hovertemplate": "color=Latvia<br>x=%{x}<br>y=%{y}<extra></extra>",
         "legendgroup": "Latvia",
         "marker": {
          "color": "#B6E880"
         },
         "name": "Latvia",
         "offsetgroup": "Latvia",
         "orientation": "h",
         "showlegend": true,
         "textposition": "auto",
         "type": "bar",
         "x": [
          0.175483430958838
         ],
         "xaxis": "x",
         "y": [
          "Latvia"
         ],
         "yaxis": "y"
        },
        {
         "alignmentgroup": "True",
         "hovertemplate": "color=Portugal<br>x=%{x}<br>y=%{y}<extra></extra>",
         "legendgroup": "Portugal",
         "marker": {
          "color": "#FF97FF"
         },
         "name": "Portugal",
         "offsetgroup": "Portugal",
         "orientation": "h",
         "showlegend": true,
         "textposition": "auto",
         "type": "bar",
         "x": [
          0.173956532092188
         ],
         "xaxis": "x",
         "y": [
          "Portugal"
         ],
         "yaxis": "y"
        },
        {
         "alignmentgroup": "True",
         "hovertemplate": "color=South Africa<br>x=%{x}<br>y=%{y}<extra></extra>",
         "legendgroup": "South Africa",
         "marker": {
          "color": "#FECB52"
         },
         "name": "South Africa",
         "offsetgroup": "South Africa",
         "orientation": "h",
         "showlegend": true,
         "textposition": "auto",
         "type": "bar",
         "x": [
          0.172364351183026
         ],
         "xaxis": "x",
         "y": [
          "South Africa"
         ],
         "yaxis": "y"
        },
        {
         "alignmentgroup": "True",
         "hovertemplate": "color=Poland<br>x=%{x}<br>y=%{y}<extra></extra>",
         "legendgroup": "Poland",
         "marker": {
          "color": "#636efa"
         },
         "name": "Poland",
         "offsetgroup": "Poland",
         "orientation": "h",
         "showlegend": true,
         "textposition": "auto",
         "type": "bar",
         "x": [
          0.170167462773902
         ],
         "xaxis": "x",
         "y": [
          "Poland"
         ],
         "yaxis": "y"
        },
        {
         "alignmentgroup": "True",
         "hovertemplate": "color=Mexico<br>x=%{x}<br>y=%{y}<extra></extra>",
         "legendgroup": "Mexico",
         "marker": {
          "color": "#EF553B"
         },
         "name": "Mexico",
         "offsetgroup": "Mexico",
         "orientation": "h",
         "showlegend": true,
         "textposition": "auto",
         "type": "bar",
         "x": [
          0.169287365109017
         ],
         "xaxis": "x",
         "y": [
          "Mexico"
         ],
         "yaxis": "y"
        },
        {
         "alignmentgroup": "True",
         "hovertemplate": "color=Republic of Lithuania<br>x=%{x}<br>y=%{y}<extra></extra>",
         "legendgroup": "Republic of Lithuania",
         "marker": {
          "color": "#00cc96"
         },
         "name": "Republic of Lithuania",
         "offsetgroup": "Republic of Lithuania",
         "orientation": "h",
         "showlegend": true,
         "textposition": "auto",
         "type": "bar",
         "x": [
          0.165617509803392
         ],
         "xaxis": "x",
         "y": [
          "Republic of Lithuania"
         ],
         "yaxis": "y"
        },
        {
         "alignmentgroup": "True",
         "hovertemplate": "color=Columbia<br>x=%{x}<br>y=%{y}<extra></extra>",
         "legendgroup": "Columbia",
         "marker": {
          "color": "#ab63fa"
         },
         "name": "Columbia",
         "offsetgroup": "Columbia",
         "orientation": "h",
         "showlegend": true,
         "textposition": "auto",
         "type": "bar",
         "x": [
          0.165602792012523
         ],
         "xaxis": "x",
         "y": [
          "Columbia"
         ],
         "yaxis": "y"
        },
        {
         "alignmentgroup": "True",
         "hovertemplate": "color=Hungry<br>x=%{x}<br>y=%{y}<extra></extra>",
         "legendgroup": "Hungry",
         "marker": {
          "color": "#FFA15A"
         },
         "name": "Hungry",
         "offsetgroup": "Hungry",
         "orientation": "h",
         "showlegend": true,
         "textposition": "auto",
         "type": "bar",
         "x": [
          0.162208389448507
         ],
         "xaxis": "x",
         "y": [
          "Hungry"
         ],
         "yaxis": "y"
        },
        {
         "alignmentgroup": "True",
         "hovertemplate": "color=Slovakia<br>x=%{x}<br>y=%{y}<extra></extra>",
         "legendgroup": "Slovakia",
         "marker": {
          "color": "#19d3f3"
         },
         "name": "Slovakia",
         "offsetgroup": "Slovakia",
         "orientation": "h",
         "showlegend": true,
         "textposition": "auto",
         "type": "bar",
         "x": [
          0.142890379617287
         ],
         "xaxis": "x",
         "y": [
          "Slovakia"
         ],
         "yaxis": "y"
        }
       ],
       "layout": {
        "barmode": "relative",
        "legend": {
         "title": {
          "text": "color"
         },
         "tracegroupgap": 0
        },
        "margin": {
         "t": 60
        },
        "template": {
         "data": {
          "bar": [
           {
            "error_x": {
             "color": "#2a3f5f"
            },
            "error_y": {
             "color": "#2a3f5f"
            },
            "marker": {
             "line": {
              "color": "#E5ECF6",
              "width": 0.5
             }
            },
            "type": "bar"
           }
          ],
          "barpolar": [
           {
            "marker": {
             "line": {
              "color": "#E5ECF6",
              "width": 0.5
             }
            },
            "type": "barpolar"
           }
          ],
          "carpet": [
           {
            "aaxis": {
             "endlinecolor": "#2a3f5f",
             "gridcolor": "white",
             "linecolor": "white",
             "minorgridcolor": "white",
             "startlinecolor": "#2a3f5f"
            },
            "baxis": {
             "endlinecolor": "#2a3f5f",
             "gridcolor": "white",
             "linecolor": "white",
             "minorgridcolor": "white",
             "startlinecolor": "#2a3f5f"
            },
            "type": "carpet"
           }
          ],
          "choropleth": [
           {
            "colorbar": {
             "outlinewidth": 0,
             "ticks": ""
            },
            "type": "choropleth"
           }
          ],
          "contour": [
           {
            "colorbar": {
             "outlinewidth": 0,
             "ticks": ""
            },
            "colorscale": [
             [
              0,
              "#0d0887"
             ],
             [
              0.1111111111111111,
              "#46039f"
             ],
             [
              0.2222222222222222,
              "#7201a8"
             ],
             [
              0.3333333333333333,
              "#9c179e"
             ],
             [
              0.4444444444444444,
              "#bd3786"
             ],
             [
              0.5555555555555556,
              "#d8576b"
             ],
             [
              0.6666666666666666,
              "#ed7953"
             ],
             [
              0.7777777777777778,
              "#fb9f3a"
             ],
             [
              0.8888888888888888,
              "#fdca26"
             ],
             [
              1,
              "#f0f921"
             ]
            ],
            "type": "contour"
           }
          ],
          "contourcarpet": [
           {
            "colorbar": {
             "outlinewidth": 0,
             "ticks": ""
            },
            "type": "contourcarpet"
           }
          ],
          "heatmap": [
           {
            "colorbar": {
             "outlinewidth": 0,
             "ticks": ""
            },
            "colorscale": [
             [
              0,
              "#0d0887"
             ],
             [
              0.1111111111111111,
              "#46039f"
             ],
             [
              0.2222222222222222,
              "#7201a8"
             ],
             [
              0.3333333333333333,
              "#9c179e"
             ],
             [
              0.4444444444444444,
              "#bd3786"
             ],
             [
              0.5555555555555556,
              "#d8576b"
             ],
             [
              0.6666666666666666,
              "#ed7953"
             ],
             [
              0.7777777777777778,
              "#fb9f3a"
             ],
             [
              0.8888888888888888,
              "#fdca26"
             ],
             [
              1,
              "#f0f921"
             ]
            ],
            "type": "heatmap"
           }
          ],
          "heatmapgl": [
           {
            "colorbar": {
             "outlinewidth": 0,
             "ticks": ""
            },
            "colorscale": [
             [
              0,
              "#0d0887"
             ],
             [
              0.1111111111111111,
              "#46039f"
             ],
             [
              0.2222222222222222,
              "#7201a8"
             ],
             [
              0.3333333333333333,
              "#9c179e"
             ],
             [
              0.4444444444444444,
              "#bd3786"
             ],
             [
              0.5555555555555556,
              "#d8576b"
             ],
             [
              0.6666666666666666,
              "#ed7953"
             ],
             [
              0.7777777777777778,
              "#fb9f3a"
             ],
             [
              0.8888888888888888,
              "#fdca26"
             ],
             [
              1,
              "#f0f921"
             ]
            ],
            "type": "heatmapgl"
           }
          ],
          "histogram": [
           {
            "marker": {
             "colorbar": {
              "outlinewidth": 0,
              "ticks": ""
             }
            },
            "type": "histogram"
           }
          ],
          "histogram2d": [
           {
            "colorbar": {
             "outlinewidth": 0,
             "ticks": ""
            },
            "colorscale": [
             [
              0,
              "#0d0887"
             ],
             [
              0.1111111111111111,
              "#46039f"
             ],
             [
              0.2222222222222222,
              "#7201a8"
             ],
             [
              0.3333333333333333,
              "#9c179e"
             ],
             [
              0.4444444444444444,
              "#bd3786"
             ],
             [
              0.5555555555555556,
              "#d8576b"
             ],
             [
              0.6666666666666666,
              "#ed7953"
             ],
             [
              0.7777777777777778,
              "#fb9f3a"
             ],
             [
              0.8888888888888888,
              "#fdca26"
             ],
             [
              1,
              "#f0f921"
             ]
            ],
            "type": "histogram2d"
           }
          ],
          "histogram2dcontour": [
           {
            "colorbar": {
             "outlinewidth": 0,
             "ticks": ""
            },
            "colorscale": [
             [
              0,
              "#0d0887"
             ],
             [
              0.1111111111111111,
              "#46039f"
             ],
             [
              0.2222222222222222,
              "#7201a8"
             ],
             [
              0.3333333333333333,
              "#9c179e"
             ],
             [
              0.4444444444444444,
              "#bd3786"
             ],
             [
              0.5555555555555556,
              "#d8576b"
             ],
             [
              0.6666666666666666,
              "#ed7953"
             ],
             [
              0.7777777777777778,
              "#fb9f3a"
             ],
             [
              0.8888888888888888,
              "#fdca26"
             ],
             [
              1,
              "#f0f921"
             ]
            ],
            "type": "histogram2dcontour"
           }
          ],
          "mesh3d": [
           {
            "colorbar": {
             "outlinewidth": 0,
             "ticks": ""
            },
            "type": "mesh3d"
           }
          ],
          "parcoords": [
           {
            "line": {
             "colorbar": {
              "outlinewidth": 0,
              "ticks": ""
             }
            },
            "type": "parcoords"
           }
          ],
          "pie": [
           {
            "automargin": true,
            "type": "pie"
           }
          ],
          "scatter": [
           {
            "marker": {
             "colorbar": {
              "outlinewidth": 0,
              "ticks": ""
             }
            },
            "type": "scatter"
           }
          ],
          "scatter3d": [
           {
            "line": {
             "colorbar": {
              "outlinewidth": 0,
              "ticks": ""
             }
            },
            "marker": {
             "colorbar": {
              "outlinewidth": 0,
              "ticks": ""
             }
            },
            "type": "scatter3d"
           }
          ],
          "scattercarpet": [
           {
            "marker": {
             "colorbar": {
              "outlinewidth": 0,
              "ticks": ""
             }
            },
            "type": "scattercarpet"
           }
          ],
          "scattergeo": [
           {
            "marker": {
             "colorbar": {
              "outlinewidth": 0,
              "ticks": ""
             }
            },
            "type": "scattergeo"
           }
          ],
          "scattergl": [
           {
            "marker": {
             "colorbar": {
              "outlinewidth": 0,
              "ticks": ""
             }
            },
            "type": "scattergl"
           }
          ],
          "scattermapbox": [
           {
            "marker": {
             "colorbar": {
              "outlinewidth": 0,
              "ticks": ""
             }
            },
            "type": "scattermapbox"
           }
          ],
          "scatterpolar": [
           {
            "marker": {
             "colorbar": {
              "outlinewidth": 0,
              "ticks": ""
             }
            },
            "type": "scatterpolar"
           }
          ],
          "scatterpolargl": [
           {
            "marker": {
             "colorbar": {
              "outlinewidth": 0,
              "ticks": ""
             }
            },
            "type": "scatterpolargl"
           }
          ],
          "scatterternary": [
           {
            "marker": {
             "colorbar": {
              "outlinewidth": 0,
              "ticks": ""
             }
            },
            "type": "scatterternary"
           }
          ],
          "surface": [
           {
            "colorbar": {
             "outlinewidth": 0,
             "ticks": ""
            },
            "colorscale": [
             [
              0,
              "#0d0887"
             ],
             [
              0.1111111111111111,
              "#46039f"
             ],
             [
              0.2222222222222222,
              "#7201a8"
             ],
             [
              0.3333333333333333,
              "#9c179e"
             ],
             [
              0.4444444444444444,
              "#bd3786"
             ],
             [
              0.5555555555555556,
              "#d8576b"
             ],
             [
              0.6666666666666666,
              "#ed7953"
             ],
             [
              0.7777777777777778,
              "#fb9f3a"
             ],
             [
              0.8888888888888888,
              "#fdca26"
             ],
             [
              1,
              "#f0f921"
             ]
            ],
            "type": "surface"
           }
          ],
          "table": [
           {
            "cells": {
             "fill": {
              "color": "#EBF0F8"
             },
             "line": {
              "color": "white"
             }
            },
            "header": {
             "fill": {
              "color": "#C8D4E3"
             },
             "line": {
              "color": "white"
             }
            },
            "type": "table"
           }
          ]
         },
         "layout": {
          "annotationdefaults": {
           "arrowcolor": "#2a3f5f",
           "arrowhead": 0,
           "arrowwidth": 1
          },
          "autotypenumbers": "strict",
          "coloraxis": {
           "colorbar": {
            "outlinewidth": 0,
            "ticks": ""
           }
          },
          "colorscale": {
           "diverging": [
            [
             0,
             "#8e0152"
            ],
            [
             0.1,
             "#c51b7d"
            ],
            [
             0.2,
             "#de77ae"
            ],
            [
             0.3,
             "#f1b6da"
            ],
            [
             0.4,
             "#fde0ef"
            ],
            [
             0.5,
             "#f7f7f7"
            ],
            [
             0.6,
             "#e6f5d0"
            ],
            [
             0.7,
             "#b8e186"
            ],
            [
             0.8,
             "#7fbc41"
            ],
            [
             0.9,
             "#4d9221"
            ],
            [
             1,
             "#276419"
            ]
           ],
           "sequential": [
            [
             0,
             "#0d0887"
            ],
            [
             0.1111111111111111,
             "#46039f"
            ],
            [
             0.2222222222222222,
             "#7201a8"
            ],
            [
             0.3333333333333333,
             "#9c179e"
            ],
            [
             0.4444444444444444,
             "#bd3786"
            ],
            [
             0.5555555555555556,
             "#d8576b"
            ],
            [
             0.6666666666666666,
             "#ed7953"
            ],
            [
             0.7777777777777778,
             "#fb9f3a"
            ],
            [
             0.8888888888888888,
             "#fdca26"
            ],
            [
             1,
             "#f0f921"
            ]
           ],
           "sequentialminus": [
            [
             0,
             "#0d0887"
            ],
            [
             0.1111111111111111,
             "#46039f"
            ],
            [
             0.2222222222222222,
             "#7201a8"
            ],
            [
             0.3333333333333333,
             "#9c179e"
            ],
            [
             0.4444444444444444,
             "#bd3786"
            ],
            [
             0.5555555555555556,
             "#d8576b"
            ],
            [
             0.6666666666666666,
             "#ed7953"
            ],
            [
             0.7777777777777778,
             "#fb9f3a"
            ],
            [
             0.8888888888888888,
             "#fdca26"
            ],
            [
             1,
             "#f0f921"
            ]
           ]
          },
          "colorway": [
           "#636efa",
           "#EF553B",
           "#00cc96",
           "#ab63fa",
           "#FFA15A",
           "#19d3f3",
           "#FF6692",
           "#B6E880",
           "#FF97FF",
           "#FECB52"
          ],
          "font": {
           "color": "#2a3f5f"
          },
          "geo": {
           "bgcolor": "white",
           "lakecolor": "white",
           "landcolor": "#E5ECF6",
           "showlakes": true,
           "showland": true,
           "subunitcolor": "white"
          },
          "hoverlabel": {
           "align": "left"
          },
          "hovermode": "closest",
          "mapbox": {
           "style": "light"
          },
          "paper_bgcolor": "white",
          "plot_bgcolor": "#E5ECF6",
          "polar": {
           "angularaxis": {
            "gridcolor": "white",
            "linecolor": "white",
            "ticks": ""
           },
           "bgcolor": "#E5ECF6",
           "radialaxis": {
            "gridcolor": "white",
            "linecolor": "white",
            "ticks": ""
           }
          },
          "scene": {
           "xaxis": {
            "backgroundcolor": "#E5ECF6",
            "gridcolor": "white",
            "gridwidth": 2,
            "linecolor": "white",
            "showbackground": true,
            "ticks": "",
            "zerolinecolor": "white"
           },
           "yaxis": {
            "backgroundcolor": "#E5ECF6",
            "gridcolor": "white",
            "gridwidth": 2,
            "linecolor": "white",
            "showbackground": true,
            "ticks": "",
            "zerolinecolor": "white"
           },
           "zaxis": {
            "backgroundcolor": "#E5ECF6",
            "gridcolor": "white",
            "gridwidth": 2,
            "linecolor": "white",
            "showbackground": true,
            "ticks": "",
            "zerolinecolor": "white"
           }
          },
          "shapedefaults": {
           "line": {
            "color": "#2a3f5f"
           }
          },
          "ternary": {
           "aaxis": {
            "gridcolor": "white",
            "linecolor": "white",
            "ticks": ""
           },
           "baxis": {
            "gridcolor": "white",
            "linecolor": "white",
            "ticks": ""
           },
           "bgcolor": "#E5ECF6",
           "caxis": {
            "gridcolor": "white",
            "linecolor": "white",
            "ticks": ""
           }
          },
          "title": {
           "x": 0.05
          },
          "xaxis": {
           "automargin": true,
           "gridcolor": "white",
           "linecolor": "white",
           "ticks": "",
           "title": {
            "standoff": 15
           },
           "zerolinecolor": "white",
           "zerolinewidth": 2
          },
          "yaxis": {
           "automargin": true,
           "gridcolor": "white",
           "linecolor": "white",
           "ticks": "",
           "title": {
            "standoff": 15
           },
           "zerolinecolor": "white",
           "zerolinewidth": 2
          }
         }
        },
        "xaxis": {
         "anchor": "y",
         "domain": [
          0,
          1
         ],
         "title": {
          "text": "Score"
         }
        },
        "yaxis": {
         "anchor": "x",
         "domain": [
          0,
          1
         ],
         "title": {
          "text": "Country"
         }
        }
       }
      },
      "text/html": [
       "<div>                            <div id=\"eec6feca-8474-4ecb-837f-74814c191673\" class=\"plotly-graph-div\" style=\"height:525px; width:100%;\"></div>            <script type=\"text/javascript\">                require([\"plotly\"], function(Plotly) {                    window.PLOTLYENV=window.PLOTLYENV || {};                                    if (document.getElementById(\"eec6feca-8474-4ecb-837f-74814c191673\")) {                    Plotly.newPlot(                        \"eec6feca-8474-4ecb-837f-74814c191673\",                        [{\"alignmentgroup\": \"True\", \"hovertemplate\": \"color=United States<br>x=%{x}<br>y=%{y}<extra></extra>\", \"legendgroup\": \"United States\", \"marker\": {\"color\": \"#636efa\"}, \"name\": \"United States\", \"offsetgroup\": \"United States\", \"orientation\": \"h\", \"showlegend\": true, \"textposition\": \"auto\", \"type\": \"bar\", \"x\": [0.512413845624294], \"xaxis\": \"x\", \"y\": [\"United States\"], \"yaxis\": \"y\"}, {\"alignmentgroup\": \"True\", \"hovertemplate\": \"color=OECD member<br>x=%{x}<br>y=%{y}<extra></extra>\", \"legendgroup\": \"OECD member\", \"marker\": {\"color\": \"#EF553B\"}, \"name\": \"OECD member\", \"offsetgroup\": \"OECD member\", \"orientation\": \"h\", \"showlegend\": true, \"textposition\": \"auto\", \"type\": \"bar\", \"x\": [0.510059773391711], \"xaxis\": \"x\", \"y\": [\"OECD member\"], \"yaxis\": \"y\"}, {\"alignmentgroup\": \"True\", \"hovertemplate\": \"color=China<br>x=%{x}<br>y=%{y}<extra></extra>\", \"legendgroup\": \"China\", \"marker\": {\"color\": \"#00cc96\"}, \"name\": \"China\", \"offsetgroup\": \"China\", \"orientation\": \"h\", \"showlegend\": true, \"textposition\": \"auto\", \"type\": \"bar\", \"x\": [0.378780191054256], \"xaxis\": \"x\", \"y\": [\"China\"], \"yaxis\": \"y\"}, {\"alignmentgroup\": \"True\", \"hovertemplate\": \"color=India<br>x=%{x}<br>y=%{y}<extra></extra>\", \"legendgroup\": \"India\", \"marker\": {\"color\": \"#ab63fa\"}, \"name\": \"India\", \"offsetgroup\": \"India\", \"orientation\": \"h\", \"showlegend\": true, \"textposition\": \"auto\", \"type\": \"bar\", \"x\": [0.321938601373092], \"xaxis\": \"x\", \"y\": [\"India\"], \"yaxis\": \"y\"}, {\"alignmentgroup\": \"True\", \"hovertemplate\": \"color=Germany<br>x=%{x}<br>y=%{y}<extra></extra>\", \"legendgroup\": \"Germany\", \"marker\": {\"color\": \"#FFA15A\"}, \"name\": \"Germany\", \"offsetgroup\": \"Germany\", \"orientation\": \"h\", \"showlegend\": true, \"textposition\": \"auto\", \"type\": \"bar\", \"x\": [0.278372284450331], \"xaxis\": \"x\", \"y\": [\"Germany\"], \"yaxis\": \"y\"}, {\"alignmentgroup\": \"True\", \"hovertemplate\": \"color=Austria<br>x=%{x}<br>y=%{y}<extra></extra>\", \"legendgroup\": \"Austria\", \"marker\": {\"color\": \"#19d3f3\"}, \"name\": \"Austria\", \"offsetgroup\": \"Austria\", \"orientation\": \"h\", \"showlegend\": true, \"textposition\": \"auto\", \"type\": \"bar\", \"x\": [0.273835242736249], \"xaxis\": \"x\", \"y\": [\"Austria\"], \"yaxis\": \"y\"}, {\"alignmentgroup\": \"True\", \"hovertemplate\": \"color=Switzerland<br>x=%{x}<br>y=%{y}<extra></extra>\", \"legendgroup\": \"Switzerland\", \"marker\": {\"color\": \"#FF6692\"}, \"name\": \"Switzerland\", \"offsetgroup\": \"Switzerland\", \"orientation\": \"h\", \"showlegend\": true, \"textposition\": \"auto\", \"type\": \"bar\", \"x\": [0.273728750452742], \"xaxis\": \"x\", \"y\": [\"Switzerland\"], \"yaxis\": \"y\"}, {\"alignmentgroup\": \"True\", \"hovertemplate\": \"color=Korea<br>x=%{x}<br>y=%{y}<extra></extra>\", \"legendgroup\": \"Korea\", \"marker\": {\"color\": \"#B6E880\"}, \"name\": \"Korea\", \"offsetgroup\": \"Korea\", \"orientation\": \"h\", \"showlegend\": true, \"textposition\": \"auto\", \"type\": \"bar\", \"x\": [0.270460724667535], \"xaxis\": \"x\", \"y\": [\"Korea\"], \"yaxis\": \"y\"}, {\"alignmentgroup\": \"True\", \"hovertemplate\": \"color=Sweden<br>x=%{x}<br>y=%{y}<extra></extra>\", \"legendgroup\": \"Sweden\", \"marker\": {\"color\": \"#FF97FF\"}, \"name\": \"Sweden\", \"offsetgroup\": \"Sweden\", \"orientation\": \"h\", \"showlegend\": true, \"textposition\": \"auto\", \"type\": \"bar\", \"x\": [0.262843918516143], \"xaxis\": \"x\", \"y\": [\"Sweden\"], \"yaxis\": \"y\"}, {\"alignmentgroup\": \"True\", \"hovertemplate\": \"color=Denmark<br>x=%{x}<br>y=%{y}<extra></extra>\", \"legendgroup\": \"Denmark\", \"marker\": {\"color\": \"#FECB52\"}, \"name\": \"Denmark\", \"offsetgroup\": \"Denmark\", \"orientation\": \"h\", \"showlegend\": true, \"textposition\": \"auto\", \"type\": \"bar\", \"x\": [0.259355718081959], \"xaxis\": \"x\", \"y\": [\"Denmark\"], \"yaxis\": \"y\"}, {\"alignmentgroup\": \"True\", \"hovertemplate\": \"color=Iceland<br>x=%{x}<br>y=%{y}<extra></extra>\", \"legendgroup\": \"Iceland\", \"marker\": {\"color\": \"#636efa\"}, \"name\": \"Iceland\", \"offsetgroup\": \"Iceland\", \"orientation\": \"h\", \"showlegend\": true, \"textposition\": \"auto\", \"type\": \"bar\", \"x\": [0.252835557738439], \"xaxis\": \"x\", \"y\": [\"Iceland\"], \"yaxis\": \"y\"}, {\"alignmentgroup\": \"True\", \"hovertemplate\": \"color=Israel<br>x=%{x}<br>y=%{y}<extra></extra>\", \"legendgroup\": \"Israel\", \"marker\": {\"color\": \"#EF553B\"}, \"name\": \"Israel\", \"offsetgroup\": \"Israel\", \"orientation\": \"h\", \"showlegend\": true, \"textposition\": \"auto\", \"type\": \"bar\", \"x\": [0.252541222735118], \"xaxis\": \"x\", \"y\": [\"Israel\"], \"yaxis\": \"y\"}, {\"alignmentgroup\": \"True\", \"hovertemplate\": \"color=Luxembourg<br>x=%{x}<br>y=%{y}<extra></extra>\", \"legendgroup\": \"Luxembourg\", \"marker\": {\"color\": \"#00cc96\"}, \"name\": \"Luxembourg\", \"offsetgroup\": \"Luxembourg\", \"orientation\": \"h\", \"showlegend\": true, \"textposition\": \"auto\", \"type\": \"bar\", \"x\": [0.247098327969498], \"xaxis\": \"x\", \"y\": [\"Luxembourg\"], \"yaxis\": \"y\"}, {\"alignmentgroup\": \"True\", \"hovertemplate\": \"color=United Kingdom<br>x=%{x}<br>y=%{y}<extra></extra>\", \"legendgroup\": \"United Kingdom\", \"marker\": {\"color\": \"#ab63fa\"}, \"name\": \"United Kingdom\", \"offsetgroup\": \"United Kingdom\", \"orientation\": \"h\", \"showlegend\": true, \"textposition\": \"auto\", \"type\": \"bar\", \"x\": [0.245943524058756], \"xaxis\": \"x\", \"y\": [\"United Kingdom\"], \"yaxis\": \"y\"}, {\"alignmentgroup\": \"True\", \"hovertemplate\": \"color=Netherlands<br>x=%{x}<br>y=%{y}<extra></extra>\", \"legendgroup\": \"Netherlands\", \"marker\": {\"color\": \"#FFA15A\"}, \"name\": \"Netherlands\", \"offsetgroup\": \"Netherlands\", \"orientation\": \"h\", \"showlegend\": true, \"textposition\": \"auto\", \"type\": \"bar\", \"x\": [0.243917785986799], \"xaxis\": \"x\", \"y\": [\"Netherlands\"], \"yaxis\": \"y\"}, {\"alignmentgroup\": \"True\", \"hovertemplate\": \"color=France<br>x=%{x}<br>y=%{y}<extra></extra>\", \"legendgroup\": \"France\", \"marker\": {\"color\": \"#19d3f3\"}, \"name\": \"France\", \"offsetgroup\": \"France\", \"orientation\": \"h\", \"showlegend\": true, \"textposition\": \"auto\", \"type\": \"bar\", \"x\": [0.235347899801337], \"xaxis\": \"x\", \"y\": [\"France\"], \"yaxis\": \"y\"}, {\"alignmentgroup\": \"True\", \"hovertemplate\": \"color=Australian<br>x=%{x}<br>y=%{y}<extra></extra>\", \"legendgroup\": \"Australian\", \"marker\": {\"color\": \"#FF6692\"}, \"name\": \"Australian\", \"offsetgroup\": \"Australian\", \"orientation\": \"h\", \"showlegend\": true, \"textposition\": \"auto\", \"type\": \"bar\", \"x\": [0.233812937932607], \"xaxis\": \"x\", \"y\": [\"Australian\"], \"yaxis\": \"y\"}, {\"alignmentgroup\": \"True\", \"hovertemplate\": \"color=Czech Republic<br>x=%{x}<br>y=%{y}<extra></extra>\", \"legendgroup\": \"Czech Republic\", \"marker\": {\"color\": \"#B6E880\"}, \"name\": \"Czech Republic\", \"offsetgroup\": \"Czech Republic\", \"orientation\": \"h\", \"showlegend\": true, \"textposition\": \"auto\", \"type\": \"bar\", \"x\": [0.226646519135945], \"xaxis\": \"x\", \"y\": [\"Czech Republic\"], \"yaxis\": \"y\"}, {\"alignmentgroup\": \"True\", \"hovertemplate\": \"color=Belgium<br>x=%{x}<br>y=%{y}<extra></extra>\", \"legendgroup\": \"Belgium\", \"marker\": {\"color\": \"#FF97FF\"}, \"name\": \"Belgium\", \"offsetgroup\": \"Belgium\", \"orientation\": \"h\", \"showlegend\": true, \"textposition\": \"auto\", \"type\": \"bar\", \"x\": [0.224904259663478], \"xaxis\": \"x\", \"y\": [\"Belgium\"], \"yaxis\": \"y\"}, {\"alignmentgroup\": \"True\", \"hovertemplate\": \"color=Slovenia<br>x=%{x}<br>y=%{y}<extra></extra>\", \"legendgroup\": \"Slovenia\", \"marker\": {\"color\": \"#FECB52\"}, \"name\": \"Slovenia\", \"offsetgroup\": \"Slovenia\", \"orientation\": \"h\", \"showlegend\": true, \"textposition\": \"auto\", \"type\": \"bar\", \"x\": [0.219513755767914], \"xaxis\": \"x\", \"y\": [\"Slovenia\"], \"yaxis\": \"y\"}, {\"alignmentgroup\": \"True\", \"hovertemplate\": \"color=Japan<br>x=%{x}<br>y=%{y}<extra></extra>\", \"legendgroup\": \"Japan\", \"marker\": {\"color\": \"#636efa\"}, \"name\": \"Japan\", \"offsetgroup\": \"Japan\", \"orientation\": \"h\", \"showlegend\": true, \"textposition\": \"auto\", \"type\": \"bar\", \"x\": [0.218211248047187], \"xaxis\": \"x\", \"y\": [\"Japan\"], \"yaxis\": \"y\"}, {\"alignmentgroup\": \"True\", \"hovertemplate\": \"color=Greece<br>x=%{x}<br>y=%{y}<extra></extra>\", \"legendgroup\": \"Greece\", \"marker\": {\"color\": \"#EF553B\"}, \"name\": \"Greece\", \"offsetgroup\": \"Greece\", \"orientation\": \"h\", \"showlegend\": true, \"textposition\": \"auto\", \"type\": \"bar\", \"x\": [0.216585801332933], \"xaxis\": \"x\", \"y\": [\"Greece\"], \"yaxis\": \"y\"}, {\"alignmentgroup\": \"True\", \"hovertemplate\": \"color=Canada<br>x=%{x}<br>y=%{y}<extra></extra>\", \"legendgroup\": \"Canada\", \"marker\": {\"color\": \"#00cc96\"}, \"name\": \"Canada\", \"offsetgroup\": \"Canada\", \"orientation\": \"h\", \"showlegend\": true, \"textposition\": \"auto\", \"type\": \"bar\", \"x\": [0.215511169009113], \"xaxis\": \"x\", \"y\": [\"Canada\"], \"yaxis\": \"y\"}, {\"alignmentgroup\": \"True\", \"hovertemplate\": \"color=Spain<br>x=%{x}<br>y=%{y}<extra></extra>\", \"legendgroup\": \"Spain\", \"marker\": {\"color\": \"#ab63fa\"}, \"name\": \"Spain\", \"offsetgroup\": \"Spain\", \"orientation\": \"h\", \"showlegend\": true, \"textposition\": \"auto\", \"type\": \"bar\", \"x\": [0.212299885046399], \"xaxis\": \"x\", \"y\": [\"Spain\"], \"yaxis\": \"y\"}, {\"alignmentgroup\": \"True\", \"hovertemplate\": \"color=New Zealand<br>x=%{x}<br>y=%{y}<extra></extra>\", \"legendgroup\": \"New Zealand\", \"marker\": {\"color\": \"#FFA15A\"}, \"name\": \"New Zealand\", \"offsetgroup\": \"New Zealand\", \"orientation\": \"h\", \"showlegend\": true, \"textposition\": \"auto\", \"type\": \"bar\", \"x\": [0.211817487496073], \"xaxis\": \"x\", \"y\": [\"New Zealand\"], \"yaxis\": \"y\"}, {\"alignmentgroup\": \"True\", \"hovertemplate\": \"color=Costa Rica<br>x=%{x}<br>y=%{y}<extra></extra>\", \"legendgroup\": \"Costa Rica\", \"marker\": {\"color\": \"#19d3f3\"}, \"name\": \"Costa Rica\", \"offsetgroup\": \"Costa Rica\", \"orientation\": \"h\", \"showlegend\": true, \"textposition\": \"auto\", \"type\": \"bar\", \"x\": [0.207851588687217], \"xaxis\": \"x\", \"y\": [\"Costa Rica\"], \"yaxis\": \"y\"}, {\"alignmentgroup\": \"True\", \"hovertemplate\": \"color=Chile<br>x=%{x}<br>y=%{y}<extra></extra>\", \"legendgroup\": \"Chile\", \"marker\": {\"color\": \"#FF6692\"}, \"name\": \"Chile\", \"offsetgroup\": \"Chile\", \"orientation\": \"h\", \"showlegend\": true, \"textposition\": \"auto\", \"type\": \"bar\", \"x\": [0.207518036724194], \"xaxis\": \"x\", \"y\": [\"Chile\"], \"yaxis\": \"y\"}, {\"alignmentgroup\": \"True\", \"hovertemplate\": \"color=Brazil<br>x=%{x}<br>y=%{y}<extra></extra>\", \"legendgroup\": \"Brazil\", \"marker\": {\"color\": \"#B6E880\"}, \"name\": \"Brazil\", \"offsetgroup\": \"Brazil\", \"orientation\": \"h\", \"showlegend\": true, \"textposition\": \"auto\", \"type\": \"bar\", \"x\": [0.205401837411104], \"xaxis\": \"x\", \"y\": [\"Brazil\"], \"yaxis\": \"y\"}, {\"alignmentgroup\": \"True\", \"hovertemplate\": \"color=Finland<br>x=%{x}<br>y=%{y}<extra></extra>\", \"legendgroup\": \"Finland\", \"marker\": {\"color\": \"#FF97FF\"}, \"name\": \"Finland\", \"offsetgroup\": \"Finland\", \"orientation\": \"h\", \"showlegend\": true, \"textposition\": \"auto\", \"type\": \"bar\", \"x\": [0.203770456681203], \"xaxis\": \"x\", \"y\": [\"Finland\"], \"yaxis\": \"y\"}, {\"alignmentgroup\": \"True\", \"hovertemplate\": \"color=Norway<br>x=%{x}<br>y=%{y}<extra></extra>\", \"legendgroup\": \"Norway\", \"marker\": {\"color\": \"#FECB52\"}, \"name\": \"Norway\", \"offsetgroup\": \"Norway\", \"orientation\": \"h\", \"showlegend\": true, \"textposition\": \"auto\", \"type\": \"bar\", \"x\": [0.198690874836926], \"xaxis\": \"x\", \"y\": [\"Norway\"], \"yaxis\": \"y\"}, {\"alignmentgroup\": \"True\", \"hovertemplate\": \"color=Russia<br>x=%{x}<br>y=%{y}<extra></extra>\", \"legendgroup\": \"Russia\", \"marker\": {\"color\": \"#636efa\"}, \"name\": \"Russia\", \"offsetgroup\": \"Russia\", \"orientation\": \"h\", \"showlegend\": true, \"textposition\": \"auto\", \"type\": \"bar\", \"x\": [0.19728702823922], \"xaxis\": \"x\", \"y\": [\"Russia\"], \"yaxis\": \"y\"}, {\"alignmentgroup\": \"True\", \"hovertemplate\": \"color=Turkey<br>x=%{x}<br>y=%{y}<extra></extra>\", \"legendgroup\": \"Turkey\", \"marker\": {\"color\": \"#EF553B\"}, \"name\": \"Turkey\", \"offsetgroup\": \"Turkey\", \"orientation\": \"h\", \"showlegend\": true, \"textposition\": \"auto\", \"type\": \"bar\", \"x\": [0.195823937450205], \"xaxis\": \"x\", \"y\": [\"Turkey\"], \"yaxis\": \"y\"}, {\"alignmentgroup\": \"True\", \"hovertemplate\": \"color=Ireland<br>x=%{x}<br>y=%{y}<extra></extra>\", \"legendgroup\": \"Ireland\", \"marker\": {\"color\": \"#00cc96\"}, \"name\": \"Ireland\", \"offsetgroup\": \"Ireland\", \"orientation\": \"h\", \"showlegend\": true, \"textposition\": \"auto\", \"type\": \"bar\", \"x\": [0.193376328431995], \"xaxis\": \"x\", \"y\": [\"Ireland\"], \"yaxis\": \"y\"}, {\"alignmentgroup\": \"True\", \"hovertemplate\": \"color=Saudi Arabia<br>x=%{x}<br>y=%{y}<extra></extra>\", \"legendgroup\": \"Saudi Arabia\", \"marker\": {\"color\": \"#ab63fa\"}, \"name\": \"Saudi Arabia\", \"offsetgroup\": \"Saudi Arabia\", \"orientation\": \"h\", \"showlegend\": true, \"textposition\": \"auto\", \"type\": \"bar\", \"x\": [0.188745464110452], \"xaxis\": \"x\", \"y\": [\"Saudi Arabia\"], \"yaxis\": \"y\"}, {\"alignmentgroup\": \"True\", \"hovertemplate\": \"color=Italy<br>x=%{x}<br>y=%{y}<extra></extra>\", \"legendgroup\": \"Italy\", \"marker\": {\"color\": \"#FFA15A\"}, \"name\": \"Italy\", \"offsetgroup\": \"Italy\", \"orientation\": \"h\", \"showlegend\": true, \"textposition\": \"auto\", \"type\": \"bar\", \"x\": [0.184640278842443], \"xaxis\": \"x\", \"y\": [\"Italy\"], \"yaxis\": \"y\"}, {\"alignmentgroup\": \"True\", \"hovertemplate\": \"color=Argentina<br>x=%{x}<br>y=%{y}<extra></extra>\", \"legendgroup\": \"Argentina\", \"marker\": {\"color\": \"#19d3f3\"}, \"name\": \"Argentina\", \"offsetgroup\": \"Argentina\", \"orientation\": \"h\", \"showlegend\": true, \"textposition\": \"auto\", \"type\": \"bar\", \"x\": [0.179645132168534], \"xaxis\": \"x\", \"y\": [\"Argentina\"], \"yaxis\": \"y\"}, {\"alignmentgroup\": \"True\", \"hovertemplate\": \"color=Estonia<br>x=%{x}<br>y=%{y}<extra></extra>\", \"legendgroup\": \"Estonia\", \"marker\": {\"color\": \"#FF6692\"}, \"name\": \"Estonia\", \"offsetgroup\": \"Estonia\", \"orientation\": \"h\", \"showlegend\": true, \"textposition\": \"auto\", \"type\": \"bar\", \"x\": [0.175518895244394], \"xaxis\": \"x\", \"y\": [\"Estonia\"], \"yaxis\": \"y\"}, {\"alignmentgroup\": \"True\", \"hovertemplate\": \"color=Latvia<br>x=%{x}<br>y=%{y}<extra></extra>\", \"legendgroup\": \"Latvia\", \"marker\": {\"color\": \"#B6E880\"}, \"name\": \"Latvia\", \"offsetgroup\": \"Latvia\", \"orientation\": \"h\", \"showlegend\": true, \"textposition\": \"auto\", \"type\": \"bar\", \"x\": [0.175483430958838], \"xaxis\": \"x\", \"y\": [\"Latvia\"], \"yaxis\": \"y\"}, {\"alignmentgroup\": \"True\", \"hovertemplate\": \"color=Portugal<br>x=%{x}<br>y=%{y}<extra></extra>\", \"legendgroup\": \"Portugal\", \"marker\": {\"color\": \"#FF97FF\"}, \"name\": \"Portugal\", \"offsetgroup\": \"Portugal\", \"orientation\": \"h\", \"showlegend\": true, \"textposition\": \"auto\", \"type\": \"bar\", \"x\": [0.173956532092188], \"xaxis\": \"x\", \"y\": [\"Portugal\"], \"yaxis\": \"y\"}, {\"alignmentgroup\": \"True\", \"hovertemplate\": \"color=South Africa<br>x=%{x}<br>y=%{y}<extra></extra>\", \"legendgroup\": \"South Africa\", \"marker\": {\"color\": \"#FECB52\"}, \"name\": \"South Africa\", \"offsetgroup\": \"South Africa\", \"orientation\": \"h\", \"showlegend\": true, \"textposition\": \"auto\", \"type\": \"bar\", \"x\": [0.172364351183026], \"xaxis\": \"x\", \"y\": [\"South Africa\"], \"yaxis\": \"y\"}, {\"alignmentgroup\": \"True\", \"hovertemplate\": \"color=Poland<br>x=%{x}<br>y=%{y}<extra></extra>\", \"legendgroup\": \"Poland\", \"marker\": {\"color\": \"#636efa\"}, \"name\": \"Poland\", \"offsetgroup\": \"Poland\", \"orientation\": \"h\", \"showlegend\": true, \"textposition\": \"auto\", \"type\": \"bar\", \"x\": [0.170167462773902], \"xaxis\": \"x\", \"y\": [\"Poland\"], \"yaxis\": \"y\"}, {\"alignmentgroup\": \"True\", \"hovertemplate\": \"color=Mexico<br>x=%{x}<br>y=%{y}<extra></extra>\", \"legendgroup\": \"Mexico\", \"marker\": {\"color\": \"#EF553B\"}, \"name\": \"Mexico\", \"offsetgroup\": \"Mexico\", \"orientation\": \"h\", \"showlegend\": true, \"textposition\": \"auto\", \"type\": \"bar\", \"x\": [0.169287365109017], \"xaxis\": \"x\", \"y\": [\"Mexico\"], \"yaxis\": \"y\"}, {\"alignmentgroup\": \"True\", \"hovertemplate\": \"color=Republic of Lithuania<br>x=%{x}<br>y=%{y}<extra></extra>\", \"legendgroup\": \"Republic of Lithuania\", \"marker\": {\"color\": \"#00cc96\"}, \"name\": \"Republic of Lithuania\", \"offsetgroup\": \"Republic of Lithuania\", \"orientation\": \"h\", \"showlegend\": true, \"textposition\": \"auto\", \"type\": \"bar\", \"x\": [0.165617509803392], \"xaxis\": \"x\", \"y\": [\"Republic of Lithuania\"], \"yaxis\": \"y\"}, {\"alignmentgroup\": \"True\", \"hovertemplate\": \"color=Columbia<br>x=%{x}<br>y=%{y}<extra></extra>\", \"legendgroup\": \"Columbia\", \"marker\": {\"color\": \"#ab63fa\"}, \"name\": \"Columbia\", \"offsetgroup\": \"Columbia\", \"orientation\": \"h\", \"showlegend\": true, \"textposition\": \"auto\", \"type\": \"bar\", \"x\": [0.165602792012523], \"xaxis\": \"x\", \"y\": [\"Columbia\"], \"yaxis\": \"y\"}, {\"alignmentgroup\": \"True\", \"hovertemplate\": \"color=Hungry<br>x=%{x}<br>y=%{y}<extra></extra>\", \"legendgroup\": \"Hungry\", \"marker\": {\"color\": \"#FFA15A\"}, \"name\": \"Hungry\", \"offsetgroup\": \"Hungry\", \"orientation\": \"h\", \"showlegend\": true, \"textposition\": \"auto\", \"type\": \"bar\", \"x\": [0.162208389448507], \"xaxis\": \"x\", \"y\": [\"Hungry\"], \"yaxis\": \"y\"}, {\"alignmentgroup\": \"True\", \"hovertemplate\": \"color=Slovakia<br>x=%{x}<br>y=%{y}<extra></extra>\", \"legendgroup\": \"Slovakia\", \"marker\": {\"color\": \"#19d3f3\"}, \"name\": \"Slovakia\", \"offsetgroup\": \"Slovakia\", \"orientation\": \"h\", \"showlegend\": true, \"textposition\": \"auto\", \"type\": \"bar\", \"x\": [0.142890379617287], \"xaxis\": \"x\", \"y\": [\"Slovakia\"], \"yaxis\": \"y\"}],                        {\"barmode\": \"relative\", \"legend\": {\"title\": {\"text\": \"color\"}, \"tracegroupgap\": 0}, \"margin\": {\"t\": 60}, \"template\": {\"data\": {\"bar\": [{\"error_x\": {\"color\": \"#2a3f5f\"}, \"error_y\": {\"color\": \"#2a3f5f\"}, \"marker\": {\"line\": {\"color\": \"#E5ECF6\", \"width\": 0.5}}, \"type\": \"bar\"}], \"barpolar\": [{\"marker\": {\"line\": {\"color\": \"#E5ECF6\", \"width\": 0.5}}, \"type\": \"barpolar\"}], \"carpet\": [{\"aaxis\": {\"endlinecolor\": \"#2a3f5f\", \"gridcolor\": \"white\", \"linecolor\": \"white\", \"minorgridcolor\": \"white\", \"startlinecolor\": \"#2a3f5f\"}, \"baxis\": {\"endlinecolor\": \"#2a3f5f\", \"gridcolor\": \"white\", \"linecolor\": \"white\", \"minorgridcolor\": \"white\", \"startlinecolor\": \"#2a3f5f\"}, \"type\": \"carpet\"}], \"choropleth\": [{\"colorbar\": {\"outlinewidth\": 0, \"ticks\": \"\"}, \"type\": \"choropleth\"}], \"contour\": [{\"colorbar\": {\"outlinewidth\": 0, \"ticks\": \"\"}, \"colorscale\": [[0.0, \"#0d0887\"], [0.1111111111111111, \"#46039f\"], [0.2222222222222222, \"#7201a8\"], [0.3333333333333333, \"#9c179e\"], [0.4444444444444444, \"#bd3786\"], [0.5555555555555556, \"#d8576b\"], [0.6666666666666666, \"#ed7953\"], [0.7777777777777778, \"#fb9f3a\"], [0.8888888888888888, \"#fdca26\"], [1.0, \"#f0f921\"]], \"type\": \"contour\"}], \"contourcarpet\": [{\"colorbar\": {\"outlinewidth\": 0, \"ticks\": \"\"}, \"type\": \"contourcarpet\"}], \"heatmap\": [{\"colorbar\": {\"outlinewidth\": 0, \"ticks\": \"\"}, \"colorscale\": [[0.0, \"#0d0887\"], [0.1111111111111111, \"#46039f\"], [0.2222222222222222, \"#7201a8\"], [0.3333333333333333, \"#9c179e\"], [0.4444444444444444, \"#bd3786\"], [0.5555555555555556, \"#d8576b\"], [0.6666666666666666, \"#ed7953\"], [0.7777777777777778, \"#fb9f3a\"], [0.8888888888888888, \"#fdca26\"], [1.0, \"#f0f921\"]], \"type\": \"heatmap\"}], \"heatmapgl\": [{\"colorbar\": {\"outlinewidth\": 0, \"ticks\": \"\"}, \"colorscale\": [[0.0, \"#0d0887\"], [0.1111111111111111, \"#46039f\"], [0.2222222222222222, \"#7201a8\"], [0.3333333333333333, \"#9c179e\"], [0.4444444444444444, \"#bd3786\"], [0.5555555555555556, \"#d8576b\"], [0.6666666666666666, \"#ed7953\"], [0.7777777777777778, \"#fb9f3a\"], [0.8888888888888888, \"#fdca26\"], [1.0, \"#f0f921\"]], \"type\": \"heatmapgl\"}], \"histogram\": [{\"marker\": {\"colorbar\": {\"outlinewidth\": 0, \"ticks\": \"\"}}, \"type\": \"histogram\"}], \"histogram2d\": [{\"colorbar\": {\"outlinewidth\": 0, \"ticks\": \"\"}, \"colorscale\": [[0.0, \"#0d0887\"], [0.1111111111111111, \"#46039f\"], [0.2222222222222222, \"#7201a8\"], [0.3333333333333333, \"#9c179e\"], [0.4444444444444444, \"#bd3786\"], [0.5555555555555556, \"#d8576b\"], [0.6666666666666666, \"#ed7953\"], [0.7777777777777778, \"#fb9f3a\"], [0.8888888888888888, \"#fdca26\"], [1.0, \"#f0f921\"]], \"type\": \"histogram2d\"}], \"histogram2dcontour\": [{\"colorbar\": {\"outlinewidth\": 0, \"ticks\": \"\"}, \"colorscale\": [[0.0, \"#0d0887\"], [0.1111111111111111, \"#46039f\"], [0.2222222222222222, \"#7201a8\"], [0.3333333333333333, \"#9c179e\"], [0.4444444444444444, \"#bd3786\"], [0.5555555555555556, \"#d8576b\"], [0.6666666666666666, \"#ed7953\"], [0.7777777777777778, \"#fb9f3a\"], [0.8888888888888888, \"#fdca26\"], [1.0, \"#f0f921\"]], \"type\": \"histogram2dcontour\"}], \"mesh3d\": [{\"colorbar\": {\"outlinewidth\": 0, \"ticks\": \"\"}, \"type\": \"mesh3d\"}], \"parcoords\": [{\"line\": {\"colorbar\": {\"outlinewidth\": 0, \"ticks\": \"\"}}, \"type\": \"parcoords\"}], \"pie\": [{\"automargin\": true, \"type\": \"pie\"}], \"scatter\": [{\"marker\": {\"colorbar\": {\"outlinewidth\": 0, \"ticks\": \"\"}}, \"type\": \"scatter\"}], \"scatter3d\": [{\"line\": {\"colorbar\": {\"outlinewidth\": 0, \"ticks\": \"\"}}, \"marker\": {\"colorbar\": {\"outlinewidth\": 0, \"ticks\": \"\"}}, \"type\": \"scatter3d\"}], \"scattercarpet\": [{\"marker\": {\"colorbar\": {\"outlinewidth\": 0, \"ticks\": \"\"}}, \"type\": \"scattercarpet\"}], \"scattergeo\": [{\"marker\": {\"colorbar\": {\"outlinewidth\": 0, \"ticks\": \"\"}}, \"type\": \"scattergeo\"}], \"scattergl\": [{\"marker\": {\"colorbar\": {\"outlinewidth\": 0, \"ticks\": \"\"}}, \"type\": \"scattergl\"}], \"scattermapbox\": [{\"marker\": {\"colorbar\": {\"outlinewidth\": 0, \"ticks\": \"\"}}, \"type\": \"scattermapbox\"}], \"scatterpolar\": [{\"marker\": {\"colorbar\": {\"outlinewidth\": 0, \"ticks\": \"\"}}, \"type\": \"scatterpolar\"}], \"scatterpolargl\": [{\"marker\": {\"colorbar\": {\"outlinewidth\": 0, \"ticks\": \"\"}}, \"type\": \"scatterpolargl\"}], \"scatterternary\": [{\"marker\": {\"colorbar\": {\"outlinewidth\": 0, \"ticks\": \"\"}}, \"type\": \"scatterternary\"}], \"surface\": [{\"colorbar\": {\"outlinewidth\": 0, \"ticks\": \"\"}, \"colorscale\": [[0.0, \"#0d0887\"], [0.1111111111111111, \"#46039f\"], [0.2222222222222222, \"#7201a8\"], [0.3333333333333333, \"#9c179e\"], [0.4444444444444444, \"#bd3786\"], [0.5555555555555556, \"#d8576b\"], [0.6666666666666666, \"#ed7953\"], [0.7777777777777778, \"#fb9f3a\"], [0.8888888888888888, \"#fdca26\"], [1.0, \"#f0f921\"]], \"type\": \"surface\"}], \"table\": [{\"cells\": {\"fill\": {\"color\": \"#EBF0F8\"}, \"line\": {\"color\": \"white\"}}, \"header\": {\"fill\": {\"color\": \"#C8D4E3\"}, \"line\": {\"color\": \"white\"}}, \"type\": \"table\"}]}, \"layout\": {\"annotationdefaults\": {\"arrowcolor\": \"#2a3f5f\", \"arrowhead\": 0, \"arrowwidth\": 1}, \"autotypenumbers\": \"strict\", \"coloraxis\": {\"colorbar\": {\"outlinewidth\": 0, \"ticks\": \"\"}}, \"colorscale\": {\"diverging\": [[0, \"#8e0152\"], [0.1, \"#c51b7d\"], [0.2, \"#de77ae\"], [0.3, \"#f1b6da\"], [0.4, \"#fde0ef\"], [0.5, \"#f7f7f7\"], [0.6, \"#e6f5d0\"], [0.7, \"#b8e186\"], [0.8, \"#7fbc41\"], [0.9, \"#4d9221\"], [1, \"#276419\"]], \"sequential\": [[0.0, \"#0d0887\"], [0.1111111111111111, \"#46039f\"], [0.2222222222222222, \"#7201a8\"], [0.3333333333333333, \"#9c179e\"], [0.4444444444444444, \"#bd3786\"], [0.5555555555555556, \"#d8576b\"], [0.6666666666666666, \"#ed7953\"], [0.7777777777777778, \"#fb9f3a\"], [0.8888888888888888, \"#fdca26\"], [1.0, \"#f0f921\"]], \"sequentialminus\": [[0.0, \"#0d0887\"], [0.1111111111111111, \"#46039f\"], [0.2222222222222222, \"#7201a8\"], [0.3333333333333333, \"#9c179e\"], [0.4444444444444444, \"#bd3786\"], [0.5555555555555556, \"#d8576b\"], [0.6666666666666666, \"#ed7953\"], [0.7777777777777778, \"#fb9f3a\"], [0.8888888888888888, \"#fdca26\"], [1.0, \"#f0f921\"]]}, \"colorway\": [\"#636efa\", \"#EF553B\", \"#00cc96\", \"#ab63fa\", \"#FFA15A\", \"#19d3f3\", \"#FF6692\", \"#B6E880\", \"#FF97FF\", \"#FECB52\"], \"font\": {\"color\": \"#2a3f5f\"}, \"geo\": {\"bgcolor\": \"white\", \"lakecolor\": \"white\", \"landcolor\": \"#E5ECF6\", \"showlakes\": true, \"showland\": true, \"subunitcolor\": \"white\"}, \"hoverlabel\": {\"align\": \"left\"}, \"hovermode\": \"closest\", \"mapbox\": {\"style\": \"light\"}, \"paper_bgcolor\": \"white\", \"plot_bgcolor\": \"#E5ECF6\", \"polar\": {\"angularaxis\": {\"gridcolor\": \"white\", \"linecolor\": \"white\", \"ticks\": \"\"}, \"bgcolor\": \"#E5ECF6\", \"radialaxis\": {\"gridcolor\": \"white\", \"linecolor\": \"white\", \"ticks\": \"\"}}, \"scene\": {\"xaxis\": {\"backgroundcolor\": \"#E5ECF6\", \"gridcolor\": \"white\", \"gridwidth\": 2, \"linecolor\": \"white\", \"showbackground\": true, \"ticks\": \"\", \"zerolinecolor\": \"white\"}, \"yaxis\": {\"backgroundcolor\": \"#E5ECF6\", \"gridcolor\": \"white\", \"gridwidth\": 2, \"linecolor\": \"white\", \"showbackground\": true, \"ticks\": \"\", \"zerolinecolor\": \"white\"}, \"zaxis\": {\"backgroundcolor\": \"#E5ECF6\", \"gridcolor\": \"white\", \"gridwidth\": 2, \"linecolor\": \"white\", \"showbackground\": true, \"ticks\": \"\", \"zerolinecolor\": \"white\"}}, \"shapedefaults\": {\"line\": {\"color\": \"#2a3f5f\"}}, \"ternary\": {\"aaxis\": {\"gridcolor\": \"white\", \"linecolor\": \"white\", \"ticks\": \"\"}, \"baxis\": {\"gridcolor\": \"white\", \"linecolor\": \"white\", \"ticks\": \"\"}, \"bgcolor\": \"#E5ECF6\", \"caxis\": {\"gridcolor\": \"white\", \"linecolor\": \"white\", \"ticks\": \"\"}}, \"title\": {\"x\": 0.05}, \"xaxis\": {\"automargin\": true, \"gridcolor\": \"white\", \"linecolor\": \"white\", \"ticks\": \"\", \"title\": {\"standoff\": 15}, \"zerolinecolor\": \"white\", \"zerolinewidth\": 2}, \"yaxis\": {\"automargin\": true, \"gridcolor\": \"white\", \"linecolor\": \"white\", \"ticks\": \"\", \"title\": {\"standoff\": 15}, \"zerolinecolor\": \"white\", \"zerolinewidth\": 2}}}, \"xaxis\": {\"anchor\": \"y\", \"domain\": [0.0, 1.0], \"title\": {\"text\": \"Score\"}}, \"yaxis\": {\"anchor\": \"x\", \"domain\": [0.0, 1.0], \"title\": {\"text\": \"Country\"}}},                        {\"responsive\": true}                    ).then(function(){\n",
       "                            \n",
       "var gd = document.getElementById('eec6feca-8474-4ecb-837f-74814c191673');\n",
       "var x = new MutationObserver(function (mutations, observer) {{\n",
       "        var display = window.getComputedStyle(gd).display;\n",
       "        if (!display || display === 'none') {{\n",
       "            console.log([gd, 'removed!']);\n",
       "            Plotly.purge(gd);\n",
       "            observer.disconnect();\n",
       "        }}\n",
       "}});\n",
       "\n",
       "// Listen for the removal of the full notebook cells\n",
       "var notebookContainer = gd.closest('#notebook-container');\n",
       "if (notebookContainer) {{\n",
       "    x.observe(notebookContainer, {childList: true});\n",
       "}}\n",
       "\n",
       "// Listen for the clearing of the current output cell\n",
       "var outputEl = gd.closest('.output');\n",
       "if (outputEl) {{\n",
       "    x.observe(outputEl, {childList: true});\n",
       "}}\n",
       "\n",
       "                        })                };                });            </script>        </div>"
      ]
     },
     "metadata": {},
     "output_type": "display_data"
    }
   ],
   "source": [
    "#数据部分\n",
    "r1=read.loc[0:45,'Country Name']\n",
    "r2=read.loc[0:45,'政府教育支出']\n",
    "r3=read.loc[0:45,'科技期刊文章']\n",
    "r4=read.loc[0:45,'高校入学率']\n",
    "r5=read.loc[0:45,'研发技术人员数量']\n",
    "r6=read.loc[0:45,'研发支出']\n",
    "r7=read.loc[0:45,'留学生极大型']\n",
    "r8=read.loc[0:45,'高校排名数据']\n",
    "r9=read.loc[0:45,'留学生']\n",
    "r10=read.loc[0:45,'评估值S']\n",
    "fig1=px.bar(x=r10, y=r1, color=r1)\n",
    "fig1.update_layout(xaxis_title = 'Score',yaxis_title = 'Country')\n",
    "#fig1.update_xaxes(rangeslider_visible=True)\n",
    "fig1.show()"
   ]
  },
  {
   "cell_type": "code",
   "execution_count": 6,
   "metadata": {},
   "outputs": [
    {
     "data": {
      "text/html": [
       "<div>\n",
       "<style scoped>\n",
       "    .dataframe tbody tr th:only-of-type {\n",
       "        vertical-align: middle;\n",
       "    }\n",
       "\n",
       "    .dataframe tbody tr th {\n",
       "        vertical-align: top;\n",
       "    }\n",
       "\n",
       "    .dataframe thead th {\n",
       "        text-align: right;\n",
       "    }\n",
       "</style>\n",
       "<table border=\"1\" class=\"dataframe\">\n",
       "  <thead>\n",
       "    <tr style=\"text-align: right;\">\n",
       "      <th></th>\n",
       "      <th>影响因素</th>\n",
       "      <th>重要程度</th>\n",
       "      <th>聚类得第一等级的均值</th>\n",
       "      <th>中国值</th>\n",
       "      <th>差值</th>\n",
       "      <th>差值*重要程度</th>\n",
       "    </tr>\n",
       "  </thead>\n",
       "  <tbody>\n",
       "    <tr>\n",
       "      <td>0</td>\n",
       "      <td>科技期刊文章</td>\n",
       "      <td>0.064807</td>\n",
       "      <td>0.648639</td>\n",
       "      <td>0.371425</td>\n",
       "      <td>0.277215</td>\n",
       "      <td>0.017965</td>\n",
       "    </tr>\n",
       "    <tr>\n",
       "      <td>1</td>\n",
       "      <td>研发支出</td>\n",
       "      <td>0.032362</td>\n",
       "      <td>0.546780</td>\n",
       "      <td>0.441304</td>\n",
       "      <td>0.105477</td>\n",
       "      <td>0.003413</td>\n",
       "    </tr>\n",
       "    <tr>\n",
       "      <td>2</td>\n",
       "      <td>高校排名数据</td>\n",
       "      <td>0.017802</td>\n",
       "      <td>0.500000</td>\n",
       "      <td>0.413165</td>\n",
       "      <td>0.086835</td>\n",
       "      <td>0.001546</td>\n",
       "    </tr>\n",
       "    <tr>\n",
       "      <td>3</td>\n",
       "      <td>高校入学率</td>\n",
       "      <td>0.004569</td>\n",
       "      <td>0.569416</td>\n",
       "      <td>0.376368</td>\n",
       "      <td>0.193048</td>\n",
       "      <td>0.000882</td>\n",
       "    </tr>\n",
       "    <tr>\n",
       "      <td>4</td>\n",
       "      <td>研发技术人员数量</td>\n",
       "      <td>0.030111</td>\n",
       "      <td>0.000000</td>\n",
       "      <td>0.000000</td>\n",
       "      <td>0.000000</td>\n",
       "      <td>0.000000</td>\n",
       "    </tr>\n",
       "    <tr>\n",
       "      <td>5</td>\n",
       "      <td>留学生极大型</td>\n",
       "      <td>0.016334</td>\n",
       "      <td>0.150550</td>\n",
       "      <td>0.711980</td>\n",
       "      <td>-0.561430</td>\n",
       "      <td>-0.009170</td>\n",
       "    </tr>\n",
       "    <tr>\n",
       "      <td>6</td>\n",
       "      <td>政府教育支出</td>\n",
       "      <td>0.091962</td>\n",
       "      <td>0.232068</td>\n",
       "      <td>0.484215</td>\n",
       "      <td>-0.252147</td>\n",
       "      <td>-0.023188</td>\n",
       "    </tr>\n",
       "  </tbody>\n",
       "</table>\n",
       "</div>"
      ],
      "text/plain": [
       "       影响因素      重要程度  聚类得第一等级的均值       中国值        差值   差值*重要程度\n",
       "0    科技期刊文章  0.064807    0.648639  0.371425  0.277215  0.017965\n",
       "1      研发支出  0.032362    0.546780  0.441304  0.105477  0.003413\n",
       "2    高校排名数据  0.017802    0.500000  0.413165  0.086835  0.001546\n",
       "3     高校入学率  0.004569    0.569416  0.376368  0.193048  0.000882\n",
       "4  研发技术人员数量  0.030111    0.000000  0.000000  0.000000  0.000000\n",
       "5    留学生极大型  0.016334    0.150550  0.711980 -0.561430 -0.009170\n",
       "6    政府教育支出  0.091962    0.232068  0.484215 -0.252147 -0.023188"
      ]
     },
     "execution_count": 6,
     "metadata": {},
     "output_type": "execute_result"
    }
   ],
   "source": [
    "path_read1=r'C:\\Users\\螺号\\Desktop\\美美美\\F\\Q3data.xlsx'\n",
    "read1=pd.read_excel(path_read1, sheet_name='Sheet1')\n",
    "read1.head(8)"
   ]
  },
  {
   "cell_type": "code",
   "execution_count": 51,
   "metadata": {
    "scrolled": true
   },
   "outputs": [
    {
     "data": {
      "text/html": [
       "<div>\n",
       "<style scoped>\n",
       "    .dataframe tbody tr th:only-of-type {\n",
       "        vertical-align: middle;\n",
       "    }\n",
       "\n",
       "    .dataframe tbody tr th {\n",
       "        vertical-align: top;\n",
       "    }\n",
       "\n",
       "    .dataframe thead th {\n",
       "        text-align: right;\n",
       "    }\n",
       "</style>\n",
       "<table border=\"1\" class=\"dataframe\">\n",
       "  <thead>\n",
       "    <tr style=\"text-align: right;\">\n",
       "      <th></th>\n",
       "      <th>标头</th>\n",
       "      <th>2012</th>\n",
       "      <th>2013</th>\n",
       "      <th>2014</th>\n",
       "      <th>2015</th>\n",
       "      <th>2016</th>\n",
       "      <th>2017</th>\n",
       "      <th>2018</th>\n",
       "      <th>2019</th>\n",
       "      <th>Unnamed: 9</th>\n",
       "    </tr>\n",
       "  </thead>\n",
       "  <tbody>\n",
       "    <tr>\n",
       "      <td>0</td>\n",
       "      <td>Government expenditure on education, total (% ...</td>\n",
       "      <td>0.973677</td>\n",
       "      <td>0.831842</td>\n",
       "      <td>0.828009</td>\n",
       "      <td>0.563506</td>\n",
       "      <td>0.571173</td>\n",
       "      <td>0.801175</td>\n",
       "      <td>0.801175</td>\n",
       "      <td>0.805009</td>\n",
       "      <td>7</td>\n",
       "    </tr>\n",
       "    <tr>\n",
       "      <td>1</td>\n",
       "      <td>international student</td>\n",
       "      <td>0.915455</td>\n",
       "      <td>0.916675</td>\n",
       "      <td>0.917616</td>\n",
       "      <td>0.920081</td>\n",
       "      <td>0.925952</td>\n",
       "      <td>0.927426</td>\n",
       "      <td>0.928291</td>\n",
       "      <td>0.929434</td>\n",
       "      <td>6</td>\n",
       "    </tr>\n",
       "    <tr>\n",
       "      <td>2</td>\n",
       "      <td>Technicians in R&amp;D (per million people)</td>\n",
       "      <td>0.345923</td>\n",
       "      <td>0.366423</td>\n",
       "      <td>0.385171</td>\n",
       "      <td>0.393475</td>\n",
       "      <td>0.415737</td>\n",
       "      <td>0.432307</td>\n",
       "      <td>0.442456</td>\n",
       "      <td>0.472201</td>\n",
       "      <td>5</td>\n",
       "    </tr>\n",
       "    <tr>\n",
       "      <td>3</td>\n",
       "      <td>School enrollment, tertiary (% gross)</td>\n",
       "      <td>0.201087</td>\n",
       "      <td>0.227044</td>\n",
       "      <td>0.297026</td>\n",
       "      <td>0.322295</td>\n",
       "      <td>0.336145</td>\n",
       "      <td>0.343525</td>\n",
       "      <td>0.354244</td>\n",
       "      <td>0.376368</td>\n",
       "      <td>4</td>\n",
       "    </tr>\n",
       "    <tr>\n",
       "      <td>4</td>\n",
       "      <td>Number of colleges and universities</td>\n",
       "      <td>0.368069</td>\n",
       "      <td>0.375454</td>\n",
       "      <td>0.381182</td>\n",
       "      <td>0.385854</td>\n",
       "      <td>0.391280</td>\n",
       "      <td>0.396556</td>\n",
       "      <td>0.401379</td>\n",
       "      <td>0.405147</td>\n",
       "      <td>3</td>\n",
       "    </tr>\n",
       "    <tr>\n",
       "      <td>5</td>\n",
       "      <td>Research and development expenditure (% of GDP)</td>\n",
       "      <td>0.359463</td>\n",
       "      <td>0.386074</td>\n",
       "      <td>0.403382</td>\n",
       "      <td>0.409796</td>\n",
       "      <td>0.417059</td>\n",
       "      <td>0.427701</td>\n",
       "      <td>0.433114</td>\n",
       "      <td>0.441304</td>\n",
       "      <td>2</td>\n",
       "    </tr>\n",
       "    <tr>\n",
       "      <td>6</td>\n",
       "      <td>Scientific and technical journal articles</td>\n",
       "      <td>0.229754</td>\n",
       "      <td>0.231332</td>\n",
       "      <td>0.252607</td>\n",
       "      <td>0.274490</td>\n",
       "      <td>0.286849</td>\n",
       "      <td>0.308205</td>\n",
       "      <td>0.332877</td>\n",
       "      <td>0.371425</td>\n",
       "      <td>1</td>\n",
       "    </tr>\n",
       "  </tbody>\n",
       "</table>\n",
       "</div>"
      ],
      "text/plain": [
       "                                                  标头      2012      2013  \\\n",
       "0  Government expenditure on education, total (% ...  0.973677  0.831842   \n",
       "1                              international student  0.915455  0.916675   \n",
       "2            Technicians in R&D (per million people)  0.345923  0.366423   \n",
       "3              School enrollment, tertiary (% gross)  0.201087  0.227044   \n",
       "4                Number of colleges and universities  0.368069  0.375454   \n",
       "5    Research and development expenditure (% of GDP)  0.359463  0.386074   \n",
       "6          Scientific and technical journal articles  0.229754  0.231332   \n",
       "\n",
       "       2014      2015      2016      2017      2018      2019  Unnamed: 9  \n",
       "0  0.828009  0.563506  0.571173  0.801175  0.801175  0.805009           7  \n",
       "1  0.917616  0.920081  0.925952  0.927426  0.928291  0.929434           6  \n",
       "2  0.385171  0.393475  0.415737  0.432307  0.442456  0.472201           5  \n",
       "3  0.297026  0.322295  0.336145  0.343525  0.354244  0.376368           4  \n",
       "4  0.381182  0.385854  0.391280  0.396556  0.401379  0.405147           3  \n",
       "5  0.403382  0.409796  0.417059  0.427701  0.433114  0.441304           2  \n",
       "6  0.252607  0.274490  0.286849  0.308205  0.332877  0.371425           1  "
      ]
     },
     "execution_count": 51,
     "metadata": {},
     "output_type": "execute_result"
    }
   ],
   "source": [
    "path_read2=r'C:\\Users\\螺号\\Desktop\\美美美\\F\\Q4中国趋势.xlsx'\n",
    "read2=pd.read_excel(path_read2, sheet_name='中国数据规格化')\n",
    "read2.head(7)"
   ]
  },
  {
   "cell_type": "code",
   "execution_count": 52,
   "metadata": {
    "scrolled": true
   },
   "outputs": [
    {
     "data": {
      "application/vnd.plotly.v1+json": {
       "config": {
        "plotlyServerURL": "https://plot.ly"
       },
       "data": [
        {
         "name": "Government expenditure on education, total (% of government expenditure)",
         "type": "scatter",
         "x": [
          "2012",
          "2013",
          "2014",
          "2015",
          "2016",
          "2017",
          "2018",
          "2019"
         ],
         "y": [
          0.973677363805673,
          0.831842472227681,
          0.828009096779628,
          0.563506190863913,
          0.571172941760021,
          0.801175468643251,
          0.801175468643251,
          0.805008844091305
         ]
        },
        {
         "name": "international student",
         "type": "scatter",
         "x": [
          "2012",
          "2013",
          "2014",
          "2015",
          "2016",
          "2017",
          "2018",
          "2019"
         ],
         "y": [
          0.915455250798775,
          0.9166752397365,
          0.917615647875996,
          0.920081042187648,
          0.925952238950449,
          0.9274263922502,
          0.928290551081089,
          0.929434290710206
         ]
        },
        {
         "name": "Technicians in R&D (per million people)",
         "type": "scatter",
         "x": [
          "2012",
          "2013",
          "2014",
          "2015",
          "2016",
          "2017",
          "2018",
          "2019"
         ],
         "y": [
          0.345923188895842,
          0.366423155683261,
          0.385171446669189,
          0.393475430882498,
          0.415736867038798,
          0.432307044794646,
          0.442456179009446,
          0.472201414301037
         ]
        },
        {
         "name": "School enrollment, tertiary (% gross)",
         "type": "scatter",
         "x": [
          "2012",
          "2013",
          "2014",
          "2015",
          "2016",
          "2017",
          "2018",
          "2019"
         ],
         "y": [
          0.201086878151787,
          0.227043807428601,
          0.297025721454855,
          0.322294519593192,
          0.336145158204737,
          0.343525110310874,
          0.354243736161405,
          0.376367837216836
         ]
        },
        {
         "name": "Number of colleges and universities",
         "type": "scatter",
         "x": [
          "2012",
          "2013",
          "2014",
          "2015",
          "2016",
          "2017",
          "2018",
          "2019"
         ],
         "y": [
          0.368068928282192,
          0.375454422748133,
          0.381181949068658,
          0.385854404751192,
          0.391280482318006,
          0.396555835507964,
          0.401379015567354,
          0.405147124988752
         ]
        },
        {
         "name": "Research and development expenditure (% of GDP)",
         "type": "scatter",
         "x": [
          "2012",
          "2013",
          "2014",
          "2015",
          "2016",
          "2017",
          "2018",
          "2019"
         ],
         "y": [
          0.359462766365556,
          0.386074083645952,
          0.403381535218605,
          0.409796114505389,
          0.417058702385327,
          0.427701210229407,
          0.433114331749038,
          0.441303671877208
         ]
        },
        {
         "name": "Scientific and technical journal articles",
         "type": "scatter",
         "x": [
          "2012",
          "2013",
          "2014",
          "2015",
          "2016",
          "2017",
          "2018",
          "2019"
         ],
         "y": [
          0.229754193316131,
          0.231332340488216,
          0.252607375040727,
          0.274489526650697,
          0.286848965513609,
          0.308205166500911,
          0.332876957288603,
          0.371424503062476
         ]
        }
       ],
       "layout": {
        "legend": {
         "tracegroupgap": 0
        },
        "margin": {
         "t": 60
        },
        "template": {
         "data": {
          "bar": [
           {
            "error_x": {
             "color": "#2a3f5f"
            },
            "error_y": {
             "color": "#2a3f5f"
            },
            "marker": {
             "line": {
              "color": "#E5ECF6",
              "width": 0.5
             }
            },
            "type": "bar"
           }
          ],
          "barpolar": [
           {
            "marker": {
             "line": {
              "color": "#E5ECF6",
              "width": 0.5
             }
            },
            "type": "barpolar"
           }
          ],
          "carpet": [
           {
            "aaxis": {
             "endlinecolor": "#2a3f5f",
             "gridcolor": "white",
             "linecolor": "white",
             "minorgridcolor": "white",
             "startlinecolor": "#2a3f5f"
            },
            "baxis": {
             "endlinecolor": "#2a3f5f",
             "gridcolor": "white",
             "linecolor": "white",
             "minorgridcolor": "white",
             "startlinecolor": "#2a3f5f"
            },
            "type": "carpet"
           }
          ],
          "choropleth": [
           {
            "colorbar": {
             "outlinewidth": 0,
             "ticks": ""
            },
            "type": "choropleth"
           }
          ],
          "contour": [
           {
            "colorbar": {
             "outlinewidth": 0,
             "ticks": ""
            },
            "colorscale": [
             [
              0,
              "#0d0887"
             ],
             [
              0.1111111111111111,
              "#46039f"
             ],
             [
              0.2222222222222222,
              "#7201a8"
             ],
             [
              0.3333333333333333,
              "#9c179e"
             ],
             [
              0.4444444444444444,
              "#bd3786"
             ],
             [
              0.5555555555555556,
              "#d8576b"
             ],
             [
              0.6666666666666666,
              "#ed7953"
             ],
             [
              0.7777777777777778,
              "#fb9f3a"
             ],
             [
              0.8888888888888888,
              "#fdca26"
             ],
             [
              1,
              "#f0f921"
             ]
            ],
            "type": "contour"
           }
          ],
          "contourcarpet": [
           {
            "colorbar": {
             "outlinewidth": 0,
             "ticks": ""
            },
            "type": "contourcarpet"
           }
          ],
          "heatmap": [
           {
            "colorbar": {
             "outlinewidth": 0,
             "ticks": ""
            },
            "colorscale": [
             [
              0,
              "#0d0887"
             ],
             [
              0.1111111111111111,
              "#46039f"
             ],
             [
              0.2222222222222222,
              "#7201a8"
             ],
             [
              0.3333333333333333,
              "#9c179e"
             ],
             [
              0.4444444444444444,
              "#bd3786"
             ],
             [
              0.5555555555555556,
              "#d8576b"
             ],
             [
              0.6666666666666666,
              "#ed7953"
             ],
             [
              0.7777777777777778,
              "#fb9f3a"
             ],
             [
              0.8888888888888888,
              "#fdca26"
             ],
             [
              1,
              "#f0f921"
             ]
            ],
            "type": "heatmap"
           }
          ],
          "heatmapgl": [
           {
            "colorbar": {
             "outlinewidth": 0,
             "ticks": ""
            },
            "colorscale": [
             [
              0,
              "#0d0887"
             ],
             [
              0.1111111111111111,
              "#46039f"
             ],
             [
              0.2222222222222222,
              "#7201a8"
             ],
             [
              0.3333333333333333,
              "#9c179e"
             ],
             [
              0.4444444444444444,
              "#bd3786"
             ],
             [
              0.5555555555555556,
              "#d8576b"
             ],
             [
              0.6666666666666666,
              "#ed7953"
             ],
             [
              0.7777777777777778,
              "#fb9f3a"
             ],
             [
              0.8888888888888888,
              "#fdca26"
             ],
             [
              1,
              "#f0f921"
             ]
            ],
            "type": "heatmapgl"
           }
          ],
          "histogram": [
           {
            "marker": {
             "colorbar": {
              "outlinewidth": 0,
              "ticks": ""
             }
            },
            "type": "histogram"
           }
          ],
          "histogram2d": [
           {
            "colorbar": {
             "outlinewidth": 0,
             "ticks": ""
            },
            "colorscale": [
             [
              0,
              "#0d0887"
             ],
             [
              0.1111111111111111,
              "#46039f"
             ],
             [
              0.2222222222222222,
              "#7201a8"
             ],
             [
              0.3333333333333333,
              "#9c179e"
             ],
             [
              0.4444444444444444,
              "#bd3786"
             ],
             [
              0.5555555555555556,
              "#d8576b"
             ],
             [
              0.6666666666666666,
              "#ed7953"
             ],
             [
              0.7777777777777778,
              "#fb9f3a"
             ],
             [
              0.8888888888888888,
              "#fdca26"
             ],
             [
              1,
              "#f0f921"
             ]
            ],
            "type": "histogram2d"
           }
          ],
          "histogram2dcontour": [
           {
            "colorbar": {
             "outlinewidth": 0,
             "ticks": ""
            },
            "colorscale": [
             [
              0,
              "#0d0887"
             ],
             [
              0.1111111111111111,
              "#46039f"
             ],
             [
              0.2222222222222222,
              "#7201a8"
             ],
             [
              0.3333333333333333,
              "#9c179e"
             ],
             [
              0.4444444444444444,
              "#bd3786"
             ],
             [
              0.5555555555555556,
              "#d8576b"
             ],
             [
              0.6666666666666666,
              "#ed7953"
             ],
             [
              0.7777777777777778,
              "#fb9f3a"
             ],
             [
              0.8888888888888888,
              "#fdca26"
             ],
             [
              1,
              "#f0f921"
             ]
            ],
            "type": "histogram2dcontour"
           }
          ],
          "mesh3d": [
           {
            "colorbar": {
             "outlinewidth": 0,
             "ticks": ""
            },
            "type": "mesh3d"
           }
          ],
          "parcoords": [
           {
            "line": {
             "colorbar": {
              "outlinewidth": 0,
              "ticks": ""
             }
            },
            "type": "parcoords"
           }
          ],
          "pie": [
           {
            "automargin": true,
            "type": "pie"
           }
          ],
          "scatter": [
           {
            "marker": {
             "colorbar": {
              "outlinewidth": 0,
              "ticks": ""
             }
            },
            "type": "scatter"
           }
          ],
          "scatter3d": [
           {
            "line": {
             "colorbar": {
              "outlinewidth": 0,
              "ticks": ""
             }
            },
            "marker": {
             "colorbar": {
              "outlinewidth": 0,
              "ticks": ""
             }
            },
            "type": "scatter3d"
           }
          ],
          "scattercarpet": [
           {
            "marker": {
             "colorbar": {
              "outlinewidth": 0,
              "ticks": ""
             }
            },
            "type": "scattercarpet"
           }
          ],
          "scattergeo": [
           {
            "marker": {
             "colorbar": {
              "outlinewidth": 0,
              "ticks": ""
             }
            },
            "type": "scattergeo"
           }
          ],
          "scattergl": [
           {
            "marker": {
             "colorbar": {
              "outlinewidth": 0,
              "ticks": ""
             }
            },
            "type": "scattergl"
           }
          ],
          "scattermapbox": [
           {
            "marker": {
             "colorbar": {
              "outlinewidth": 0,
              "ticks": ""
             }
            },
            "type": "scattermapbox"
           }
          ],
          "scatterpolar": [
           {
            "marker": {
             "colorbar": {
              "outlinewidth": 0,
              "ticks": ""
             }
            },
            "type": "scatterpolar"
           }
          ],
          "scatterpolargl": [
           {
            "marker": {
             "colorbar": {
              "outlinewidth": 0,
              "ticks": ""
             }
            },
            "type": "scatterpolargl"
           }
          ],
          "scatterternary": [
           {
            "marker": {
             "colorbar": {
              "outlinewidth": 0,
              "ticks": ""
             }
            },
            "type": "scatterternary"
           }
          ],
          "surface": [
           {
            "colorbar": {
             "outlinewidth": 0,
             "ticks": ""
            },
            "colorscale": [
             [
              0,
              "#0d0887"
             ],
             [
              0.1111111111111111,
              "#46039f"
             ],
             [
              0.2222222222222222,
              "#7201a8"
             ],
             [
              0.3333333333333333,
              "#9c179e"
             ],
             [
              0.4444444444444444,
              "#bd3786"
             ],
             [
              0.5555555555555556,
              "#d8576b"
             ],
             [
              0.6666666666666666,
              "#ed7953"
             ],
             [
              0.7777777777777778,
              "#fb9f3a"
             ],
             [
              0.8888888888888888,
              "#fdca26"
             ],
             [
              1,
              "#f0f921"
             ]
            ],
            "type": "surface"
           }
          ],
          "table": [
           {
            "cells": {
             "fill": {
              "color": "#EBF0F8"
             },
             "line": {
              "color": "white"
             }
            },
            "header": {
             "fill": {
              "color": "#C8D4E3"
             },
             "line": {
              "color": "white"
             }
            },
            "type": "table"
           }
          ]
         },
         "layout": {
          "annotationdefaults": {
           "arrowcolor": "#2a3f5f",
           "arrowhead": 0,
           "arrowwidth": 1
          },
          "autotypenumbers": "strict",
          "coloraxis": {
           "colorbar": {
            "outlinewidth": 0,
            "ticks": ""
           }
          },
          "colorscale": {
           "diverging": [
            [
             0,
             "#8e0152"
            ],
            [
             0.1,
             "#c51b7d"
            ],
            [
             0.2,
             "#de77ae"
            ],
            [
             0.3,
             "#f1b6da"
            ],
            [
             0.4,
             "#fde0ef"
            ],
            [
             0.5,
             "#f7f7f7"
            ],
            [
             0.6,
             "#e6f5d0"
            ],
            [
             0.7,
             "#b8e186"
            ],
            [
             0.8,
             "#7fbc41"
            ],
            [
             0.9,
             "#4d9221"
            ],
            [
             1,
             "#276419"
            ]
           ],
           "sequential": [
            [
             0,
             "#0d0887"
            ],
            [
             0.1111111111111111,
             "#46039f"
            ],
            [
             0.2222222222222222,
             "#7201a8"
            ],
            [
             0.3333333333333333,
             "#9c179e"
            ],
            [
             0.4444444444444444,
             "#bd3786"
            ],
            [
             0.5555555555555556,
             "#d8576b"
            ],
            [
             0.6666666666666666,
             "#ed7953"
            ],
            [
             0.7777777777777778,
             "#fb9f3a"
            ],
            [
             0.8888888888888888,
             "#fdca26"
            ],
            [
             1,
             "#f0f921"
            ]
           ],
           "sequentialminus": [
            [
             0,
             "#0d0887"
            ],
            [
             0.1111111111111111,
             "#46039f"
            ],
            [
             0.2222222222222222,
             "#7201a8"
            ],
            [
             0.3333333333333333,
             "#9c179e"
            ],
            [
             0.4444444444444444,
             "#bd3786"
            ],
            [
             0.5555555555555556,
             "#d8576b"
            ],
            [
             0.6666666666666666,
             "#ed7953"
            ],
            [
             0.7777777777777778,
             "#fb9f3a"
            ],
            [
             0.8888888888888888,
             "#fdca26"
            ],
            [
             1,
             "#f0f921"
            ]
           ]
          },
          "colorway": [
           "#636efa",
           "#EF553B",
           "#00cc96",
           "#ab63fa",
           "#FFA15A",
           "#19d3f3",
           "#FF6692",
           "#B6E880",
           "#FF97FF",
           "#FECB52"
          ],
          "font": {
           "color": "#2a3f5f"
          },
          "geo": {
           "bgcolor": "white",
           "lakecolor": "white",
           "landcolor": "#E5ECF6",
           "showlakes": true,
           "showland": true,
           "subunitcolor": "white"
          },
          "hoverlabel": {
           "align": "left"
          },
          "hovermode": "closest",
          "mapbox": {
           "style": "light"
          },
          "paper_bgcolor": "white",
          "plot_bgcolor": "#E5ECF6",
          "polar": {
           "angularaxis": {
            "gridcolor": "white",
            "linecolor": "white",
            "ticks": ""
           },
           "bgcolor": "#E5ECF6",
           "radialaxis": {
            "gridcolor": "white",
            "linecolor": "white",
            "ticks": ""
           }
          },
          "scene": {
           "xaxis": {
            "backgroundcolor": "#E5ECF6",
            "gridcolor": "white",
            "gridwidth": 2,
            "linecolor": "white",
            "showbackground": true,
            "ticks": "",
            "zerolinecolor": "white"
           },
           "yaxis": {
            "backgroundcolor": "#E5ECF6",
            "gridcolor": "white",
            "gridwidth": 2,
            "linecolor": "white",
            "showbackground": true,
            "ticks": "",
            "zerolinecolor": "white"
           },
           "zaxis": {
            "backgroundcolor": "#E5ECF6",
            "gridcolor": "white",
            "gridwidth": 2,
            "linecolor": "white",
            "showbackground": true,
            "ticks": "",
            "zerolinecolor": "white"
           }
          },
          "shapedefaults": {
           "line": {
            "color": "#2a3f5f"
           }
          },
          "ternary": {
           "aaxis": {
            "gridcolor": "white",
            "linecolor": "white",
            "ticks": ""
           },
           "baxis": {
            "gridcolor": "white",
            "linecolor": "white",
            "ticks": ""
           },
           "bgcolor": "#E5ECF6",
           "caxis": {
            "gridcolor": "white",
            "linecolor": "white",
            "ticks": ""
           }
          },
          "title": {
           "x": 0.05
          },
          "xaxis": {
           "automargin": true,
           "gridcolor": "white",
           "linecolor": "white",
           "ticks": "",
           "title": {
            "standoff": 15
           },
           "zerolinecolor": "white",
           "zerolinewidth": 2
          },
          "yaxis": {
           "automargin": true,
           "gridcolor": "white",
           "linecolor": "white",
           "ticks": "",
           "title": {
            "standoff": 15
           },
           "zerolinecolor": "white",
           "zerolinewidth": 2
          }
         }
        },
        "xaxis": {
         "anchor": "y",
         "domain": [
          0,
          1
         ]
        },
        "yaxis": {
         "anchor": "x",
         "domain": [
          0,
          1
         ]
        }
       }
      },
      "text/html": [
       "<div>                            <div id=\"8d014bf7-dfec-4e5f-a1ac-d8db68db8c22\" class=\"plotly-graph-div\" style=\"height:525px; width:100%;\"></div>            <script type=\"text/javascript\">                require([\"plotly\"], function(Plotly) {                    window.PLOTLYENV=window.PLOTLYENV || {};                                    if (document.getElementById(\"8d014bf7-dfec-4e5f-a1ac-d8db68db8c22\")) {                    Plotly.newPlot(                        \"8d014bf7-dfec-4e5f-a1ac-d8db68db8c22\",                        [{\"name\": \"Government expenditure on education, total (% of government expenditure)\", \"type\": \"scatter\", \"x\": [\"2012\", \"2013\", \"2014\", \"2015\", \"2016\", \"2017\", \"2018\", \"2019\"], \"y\": [0.973677363805673, 0.831842472227681, 0.828009096779628, 0.563506190863913, 0.571172941760021, 0.801175468643251, 0.801175468643251, 0.805008844091305]}, {\"name\": \"international student\", \"type\": \"scatter\", \"x\": [\"2012\", \"2013\", \"2014\", \"2015\", \"2016\", \"2017\", \"2018\", \"2019\"], \"y\": [0.915455250798775, 0.9166752397365, 0.917615647875996, 0.920081042187648, 0.925952238950449, 0.9274263922502, 0.928290551081089, 0.929434290710206]}, {\"name\": \"Technicians in R&D (per million people)\", \"type\": \"scatter\", \"x\": [\"2012\", \"2013\", \"2014\", \"2015\", \"2016\", \"2017\", \"2018\", \"2019\"], \"y\": [0.345923188895842, 0.366423155683261, 0.385171446669189, 0.393475430882498, 0.415736867038798, 0.432307044794646, 0.442456179009446, 0.472201414301037]}, {\"name\": \"School enrollment, tertiary (% gross)\", \"type\": \"scatter\", \"x\": [\"2012\", \"2013\", \"2014\", \"2015\", \"2016\", \"2017\", \"2018\", \"2019\"], \"y\": [0.201086878151787, 0.227043807428601, 0.297025721454855, 0.322294519593192, 0.336145158204737, 0.343525110310874, 0.354243736161405, 0.376367837216836]}, {\"name\": \"Number of colleges and universities\", \"type\": \"scatter\", \"x\": [\"2012\", \"2013\", \"2014\", \"2015\", \"2016\", \"2017\", \"2018\", \"2019\"], \"y\": [0.368068928282192, 0.375454422748133, 0.381181949068658, 0.385854404751192, 0.391280482318006, 0.396555835507964, 0.401379015567354, 0.405147124988752]}, {\"name\": \"Research and development expenditure (% of GDP)\", \"type\": \"scatter\", \"x\": [\"2012\", \"2013\", \"2014\", \"2015\", \"2016\", \"2017\", \"2018\", \"2019\"], \"y\": [0.359462766365556, 0.386074083645952, 0.403381535218605, 0.409796114505389, 0.417058702385327, 0.427701210229407, 0.433114331749038, 0.441303671877208]}, {\"name\": \"Scientific and technical journal articles\", \"type\": \"scatter\", \"x\": [\"2012\", \"2013\", \"2014\", \"2015\", \"2016\", \"2017\", \"2018\", \"2019\"], \"y\": [0.229754193316131, 0.231332340488216, 0.252607375040727, 0.274489526650697, 0.286848965513609, 0.308205166500911, 0.332876957288603, 0.371424503062476]}],                        {\"legend\": {\"tracegroupgap\": 0}, \"margin\": {\"t\": 60}, \"template\": {\"data\": {\"bar\": [{\"error_x\": {\"color\": \"#2a3f5f\"}, \"error_y\": {\"color\": \"#2a3f5f\"}, \"marker\": {\"line\": {\"color\": \"#E5ECF6\", \"width\": 0.5}}, \"type\": \"bar\"}], \"barpolar\": [{\"marker\": {\"line\": {\"color\": \"#E5ECF6\", \"width\": 0.5}}, \"type\": \"barpolar\"}], \"carpet\": [{\"aaxis\": {\"endlinecolor\": \"#2a3f5f\", \"gridcolor\": \"white\", \"linecolor\": \"white\", \"minorgridcolor\": \"white\", \"startlinecolor\": \"#2a3f5f\"}, \"baxis\": {\"endlinecolor\": \"#2a3f5f\", \"gridcolor\": \"white\", \"linecolor\": \"white\", \"minorgridcolor\": \"white\", \"startlinecolor\": \"#2a3f5f\"}, \"type\": \"carpet\"}], \"choropleth\": [{\"colorbar\": {\"outlinewidth\": 0, \"ticks\": \"\"}, \"type\": \"choropleth\"}], \"contour\": [{\"colorbar\": {\"outlinewidth\": 0, \"ticks\": \"\"}, \"colorscale\": [[0.0, \"#0d0887\"], [0.1111111111111111, \"#46039f\"], [0.2222222222222222, \"#7201a8\"], [0.3333333333333333, \"#9c179e\"], [0.4444444444444444, \"#bd3786\"], [0.5555555555555556, \"#d8576b\"], [0.6666666666666666, \"#ed7953\"], [0.7777777777777778, \"#fb9f3a\"], [0.8888888888888888, \"#fdca26\"], [1.0, \"#f0f921\"]], \"type\": \"contour\"}], \"contourcarpet\": [{\"colorbar\": {\"outlinewidth\": 0, \"ticks\": \"\"}, \"type\": \"contourcarpet\"}], \"heatmap\": [{\"colorbar\": {\"outlinewidth\": 0, \"ticks\": \"\"}, \"colorscale\": [[0.0, \"#0d0887\"], [0.1111111111111111, \"#46039f\"], [0.2222222222222222, \"#7201a8\"], [0.3333333333333333, \"#9c179e\"], [0.4444444444444444, \"#bd3786\"], [0.5555555555555556, \"#d8576b\"], [0.6666666666666666, \"#ed7953\"], [0.7777777777777778, \"#fb9f3a\"], [0.8888888888888888, \"#fdca26\"], [1.0, \"#f0f921\"]], \"type\": \"heatmap\"}], \"heatmapgl\": [{\"colorbar\": {\"outlinewidth\": 0, \"ticks\": \"\"}, \"colorscale\": [[0.0, \"#0d0887\"], [0.1111111111111111, \"#46039f\"], [0.2222222222222222, \"#7201a8\"], [0.3333333333333333, \"#9c179e\"], [0.4444444444444444, \"#bd3786\"], [0.5555555555555556, \"#d8576b\"], [0.6666666666666666, \"#ed7953\"], [0.7777777777777778, \"#fb9f3a\"], [0.8888888888888888, \"#fdca26\"], [1.0, \"#f0f921\"]], \"type\": \"heatmapgl\"}], \"histogram\": [{\"marker\": {\"colorbar\": {\"outlinewidth\": 0, \"ticks\": \"\"}}, \"type\": \"histogram\"}], \"histogram2d\": [{\"colorbar\": {\"outlinewidth\": 0, \"ticks\": \"\"}, \"colorscale\": [[0.0, \"#0d0887\"], [0.1111111111111111, \"#46039f\"], [0.2222222222222222, \"#7201a8\"], [0.3333333333333333, \"#9c179e\"], [0.4444444444444444, \"#bd3786\"], [0.5555555555555556, \"#d8576b\"], [0.6666666666666666, \"#ed7953\"], [0.7777777777777778, \"#fb9f3a\"], [0.8888888888888888, \"#fdca26\"], [1.0, \"#f0f921\"]], \"type\": \"histogram2d\"}], \"histogram2dcontour\": [{\"colorbar\": {\"outlinewidth\": 0, \"ticks\": \"\"}, \"colorscale\": [[0.0, \"#0d0887\"], [0.1111111111111111, \"#46039f\"], [0.2222222222222222, \"#7201a8\"], [0.3333333333333333, \"#9c179e\"], [0.4444444444444444, \"#bd3786\"], [0.5555555555555556, \"#d8576b\"], [0.6666666666666666, \"#ed7953\"], [0.7777777777777778, \"#fb9f3a\"], [0.8888888888888888, \"#fdca26\"], [1.0, \"#f0f921\"]], \"type\": \"histogram2dcontour\"}], \"mesh3d\": [{\"colorbar\": {\"outlinewidth\": 0, \"ticks\": \"\"}, \"type\": \"mesh3d\"}], \"parcoords\": [{\"line\": {\"colorbar\": {\"outlinewidth\": 0, \"ticks\": \"\"}}, \"type\": \"parcoords\"}], \"pie\": [{\"automargin\": true, \"type\": \"pie\"}], \"scatter\": [{\"marker\": {\"colorbar\": {\"outlinewidth\": 0, \"ticks\": \"\"}}, \"type\": \"scatter\"}], \"scatter3d\": [{\"line\": {\"colorbar\": {\"outlinewidth\": 0, \"ticks\": \"\"}}, \"marker\": {\"colorbar\": {\"outlinewidth\": 0, \"ticks\": \"\"}}, \"type\": \"scatter3d\"}], \"scattercarpet\": [{\"marker\": {\"colorbar\": {\"outlinewidth\": 0, \"ticks\": \"\"}}, \"type\": \"scattercarpet\"}], \"scattergeo\": [{\"marker\": {\"colorbar\": {\"outlinewidth\": 0, \"ticks\": \"\"}}, \"type\": \"scattergeo\"}], \"scattergl\": [{\"marker\": {\"colorbar\": {\"outlinewidth\": 0, \"ticks\": \"\"}}, \"type\": \"scattergl\"}], \"scattermapbox\": [{\"marker\": {\"colorbar\": {\"outlinewidth\": 0, \"ticks\": \"\"}}, \"type\": \"scattermapbox\"}], \"scatterpolar\": [{\"marker\": {\"colorbar\": {\"outlinewidth\": 0, \"ticks\": \"\"}}, \"type\": \"scatterpolar\"}], \"scatterpolargl\": [{\"marker\": {\"colorbar\": {\"outlinewidth\": 0, \"ticks\": \"\"}}, \"type\": \"scatterpolargl\"}], \"scatterternary\": [{\"marker\": {\"colorbar\": {\"outlinewidth\": 0, \"ticks\": \"\"}}, \"type\": \"scatterternary\"}], \"surface\": [{\"colorbar\": {\"outlinewidth\": 0, \"ticks\": \"\"}, \"colorscale\": [[0.0, \"#0d0887\"], [0.1111111111111111, \"#46039f\"], [0.2222222222222222, \"#7201a8\"], [0.3333333333333333, \"#9c179e\"], [0.4444444444444444, \"#bd3786\"], [0.5555555555555556, \"#d8576b\"], [0.6666666666666666, \"#ed7953\"], [0.7777777777777778, \"#fb9f3a\"], [0.8888888888888888, \"#fdca26\"], [1.0, \"#f0f921\"]], \"type\": \"surface\"}], \"table\": [{\"cells\": {\"fill\": {\"color\": \"#EBF0F8\"}, \"line\": {\"color\": \"white\"}}, \"header\": {\"fill\": {\"color\": \"#C8D4E3\"}, \"line\": {\"color\": \"white\"}}, \"type\": \"table\"}]}, \"layout\": {\"annotationdefaults\": {\"arrowcolor\": \"#2a3f5f\", \"arrowhead\": 0, \"arrowwidth\": 1}, \"autotypenumbers\": \"strict\", \"coloraxis\": {\"colorbar\": {\"outlinewidth\": 0, \"ticks\": \"\"}}, \"colorscale\": {\"diverging\": [[0, \"#8e0152\"], [0.1, \"#c51b7d\"], [0.2, \"#de77ae\"], [0.3, \"#f1b6da\"], [0.4, \"#fde0ef\"], [0.5, \"#f7f7f7\"], [0.6, \"#e6f5d0\"], [0.7, \"#b8e186\"], [0.8, \"#7fbc41\"], [0.9, \"#4d9221\"], [1, \"#276419\"]], \"sequential\": [[0.0, \"#0d0887\"], [0.1111111111111111, \"#46039f\"], [0.2222222222222222, \"#7201a8\"], [0.3333333333333333, \"#9c179e\"], [0.4444444444444444, \"#bd3786\"], [0.5555555555555556, \"#d8576b\"], [0.6666666666666666, \"#ed7953\"], [0.7777777777777778, \"#fb9f3a\"], [0.8888888888888888, \"#fdca26\"], [1.0, \"#f0f921\"]], \"sequentialminus\": [[0.0, \"#0d0887\"], [0.1111111111111111, \"#46039f\"], [0.2222222222222222, \"#7201a8\"], [0.3333333333333333, \"#9c179e\"], [0.4444444444444444, \"#bd3786\"], [0.5555555555555556, \"#d8576b\"], [0.6666666666666666, \"#ed7953\"], [0.7777777777777778, \"#fb9f3a\"], [0.8888888888888888, \"#fdca26\"], [1.0, \"#f0f921\"]]}, \"colorway\": [\"#636efa\", \"#EF553B\", \"#00cc96\", \"#ab63fa\", \"#FFA15A\", \"#19d3f3\", \"#FF6692\", \"#B6E880\", \"#FF97FF\", \"#FECB52\"], \"font\": {\"color\": \"#2a3f5f\"}, \"geo\": {\"bgcolor\": \"white\", \"lakecolor\": \"white\", \"landcolor\": \"#E5ECF6\", \"showlakes\": true, \"showland\": true, \"subunitcolor\": \"white\"}, \"hoverlabel\": {\"align\": \"left\"}, \"hovermode\": \"closest\", \"mapbox\": {\"style\": \"light\"}, \"paper_bgcolor\": \"white\", \"plot_bgcolor\": \"#E5ECF6\", \"polar\": {\"angularaxis\": {\"gridcolor\": \"white\", \"linecolor\": \"white\", \"ticks\": \"\"}, \"bgcolor\": \"#E5ECF6\", \"radialaxis\": {\"gridcolor\": \"white\", \"linecolor\": \"white\", \"ticks\": \"\"}}, \"scene\": {\"xaxis\": {\"backgroundcolor\": \"#E5ECF6\", \"gridcolor\": \"white\", \"gridwidth\": 2, \"linecolor\": \"white\", \"showbackground\": true, \"ticks\": \"\", \"zerolinecolor\": \"white\"}, \"yaxis\": {\"backgroundcolor\": \"#E5ECF6\", \"gridcolor\": \"white\", \"gridwidth\": 2, \"linecolor\": \"white\", \"showbackground\": true, \"ticks\": \"\", \"zerolinecolor\": \"white\"}, \"zaxis\": {\"backgroundcolor\": \"#E5ECF6\", \"gridcolor\": \"white\", \"gridwidth\": 2, \"linecolor\": \"white\", \"showbackground\": true, \"ticks\": \"\", \"zerolinecolor\": \"white\"}}, \"shapedefaults\": {\"line\": {\"color\": \"#2a3f5f\"}}, \"ternary\": {\"aaxis\": {\"gridcolor\": \"white\", \"linecolor\": \"white\", \"ticks\": \"\"}, \"baxis\": {\"gridcolor\": \"white\", \"linecolor\": \"white\", \"ticks\": \"\"}, \"bgcolor\": \"#E5ECF6\", \"caxis\": {\"gridcolor\": \"white\", \"linecolor\": \"white\", \"ticks\": \"\"}}, \"title\": {\"x\": 0.05}, \"xaxis\": {\"automargin\": true, \"gridcolor\": \"white\", \"linecolor\": \"white\", \"ticks\": \"\", \"title\": {\"standoff\": 15}, \"zerolinecolor\": \"white\", \"zerolinewidth\": 2}, \"yaxis\": {\"automargin\": true, \"gridcolor\": \"white\", \"linecolor\": \"white\", \"ticks\": \"\", \"title\": {\"standoff\": 15}, \"zerolinecolor\": \"white\", \"zerolinewidth\": 2}}}, \"xaxis\": {\"anchor\": \"y\", \"domain\": [0.0, 1.0]}, \"yaxis\": {\"anchor\": \"x\", \"domain\": [0.0, 1.0]}},                        {\"responsive\": true}                    ).then(function(){\n",
       "                            \n",
       "var gd = document.getElementById('8d014bf7-dfec-4e5f-a1ac-d8db68db8c22');\n",
       "var x = new MutationObserver(function (mutations, observer) {{\n",
       "        var display = window.getComputedStyle(gd).display;\n",
       "        if (!display || display === 'none') {{\n",
       "            console.log([gd, 'removed!']);\n",
       "            Plotly.purge(gd);\n",
       "            observer.disconnect();\n",
       "        }}\n",
       "}});\n",
       "\n",
       "// Listen for the removal of the full notebook cells\n",
       "var notebookContainer = gd.closest('#notebook-container');\n",
       "if (notebookContainer) {{\n",
       "    x.observe(notebookContainer, {childList: true});\n",
       "}}\n",
       "\n",
       "// Listen for the clearing of the current output cell\n",
       "var outputEl = gd.closest('.output');\n",
       "if (outputEl) {{\n",
       "    x.observe(outputEl, {childList: true});\n",
       "}}\n",
       "\n",
       "                        })                };                });            </script>        </div>"
      ]
     },
     "metadata": {},
     "output_type": "display_data"
    }
   ],
   "source": [
    "r=read2.columns[1:9]\n",
    "r_head=read2.loc[0:6,'标头']\n",
    "r11=read2.loc[0,'2012':'2019']\n",
    "r12=read2.loc[1,'2012':'2019']\n",
    "r13=read2.loc[2,'2012':'2019']\n",
    "r14=read2.loc[3,'2012':'2019']\n",
    "r15=read2.loc[4,'2012':'2019']\n",
    "r16=read2.loc[5,'2012':'2019']\n",
    "r17=read2.loc[6,'2012':'2019']\n",
    "fig2 = px.line()\n",
    "for i,n in enumerate(read2.index):\n",
    "    fig2.add_scatter(x=read2.columns[1:9], y= read2.loc[i,'2012':'2019'],name=r_head[i])\n",
    "fig2.show()"
   ]
  },
  {
   "cell_type": "markdown",
   "metadata": {},
   "source": [
    "注：点击图像右侧的一个图注，可以去掉对应图像，可以调取一条线"
   ]
  },
  {
   "cell_type": "code",
   "execution_count": null,
   "metadata": {},
   "outputs": [],
   "source": []
  },
  {
   "cell_type": "code",
   "execution_count": null,
   "metadata": {},
   "outputs": [],
   "source": []
  }
 ],
 "metadata": {
  "kernelspec": {
   "display_name": "Python 3",
   "language": "python",
   "name": "python3"
  },
  "language_info": {
   "codemirror_mode": {
    "name": "ipython",
    "version": 3
   },
   "file_extension": ".py",
   "mimetype": "text/x-python",
   "name": "python",
   "nbconvert_exporter": "python",
   "pygments_lexer": "ipython3",
   "version": "3.7.4"
  }
 },
 "nbformat": 4,
 "nbformat_minor": 2
}
